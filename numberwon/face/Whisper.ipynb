{
 "cells": [
  {
   "cell_type": "markdown",
   "metadata": {},
   "source": [
    "To do:\n",
    "    -class \n",
    "    -adjacency matrix (done)\n",
    "    -method to compute weights  (done)\n",
    "    -tiebreaker (done)\n",
    "    -distance method\n",
    "    -add\n",
    "    -remove \n",
    "    "
   ]
  },
  {
   "cell_type": "code",
   "execution_count": null,
   "metadata": {
    "collapsed": true
   },
   "outputs": [],
   "source": [
    "from FaceRec import Face_Recognition\n",
    "from database import Database\n",
    "%matplotlib notebook\n",
    "f = Face_Recognition()"
   ]
  },
  {
   "cell_type": "code",
   "execution_count": null,
   "metadata": {
    "collapsed": true
   },
   "outputs": [],
   "source": [
    "def plot_graph(graph, adj):\n",
    "    \"\"\" Use the package networkx to produce a diagrammatic plot of the graph, with\n",
    "        the nodes in the graph colored according to their current labels.\n",
    "\n",
    "        Note that only 20 unique colors are available for the current color map,\n",
    "        so common colors across nodes may be coincidental.\n",
    "\n",
    "        Parameters\n",
    "        ----------\n",
    "        graph : Tuple[Node, ...]\n",
    "            The graph to plot\n",
    "            \n",
    "        adj : numpy.ndarray, shape=(N, N)\n",
    "            The adjacency-matrix for the graph. Nonzero entries indicate\n",
    "            the presence of edges.\n",
    "\n",
    "        Returns\n",
    "        -------\n",
    "        Tuple[matplotlib.fig.Fig, matplotlib.axis.Axes]\n",
    "            The figure and axes for the plot.\"\"\"\n",
    "    import networkx as nx\n",
    "    import numpy as np\n",
    "    import matplotlib.cm as cm\n",
    "    import matplotlib.pyplot as plt\n",
    "\n",
    "    g = nx.Graph()\n",
    "    for n, node in enumerate(graph):\n",
    "        g.add_node(n)\n",
    "\n",
    "    g.add_edges_from(zip(*np.where(np.triu(adj) > 0)))\n",
    "    pos = nx.spring_layout(g)\n",
    "\n",
    "    color = list(iter(cm.Vega20b(np.linspace(0, 1, len(set(i.label for i in graph))))))\n",
    "    color_map = dict(zip(sorted(set(i.label for i in graph)), color))\n",
    "    colors = [color_map[i.label] for i in graph]\n",
    "    fig, ax = plt.subplots()\n",
    "    nx.draw_networkx_nodes(g, pos=pos, ax=ax, nodelist=range(len(graph)), node_color=colors)\n",
    "    nx.draw_networkx_edges(g, pos, ax=ax, edgelist=g.edges())\n",
    "    return fig, ax"
   ]
  },
  {
   "cell_type": "code",
   "execution_count": null,
   "metadata": {
    "collapsed": true
   },
   "outputs": [],
   "source": [
    "import numpy as np\n",
    "from \n",
    "class WhisperDatabase:\n",
    "    def __init__(self, listData, labels):\n",
    "        self.size = len(listData)\n",
    "        self.nodes = list()\n",
    "        for image, label in zip(listData, labels):\n",
    "            fig, ax = plt.subplots()\n",
    "            ax.imshow(image)\n",
    "            desc_list = []\n",
    "            detections = list(face_detect(image, 1))\n",
    "            for i in range(len(detections)):\n",
    "                l, r, t, b = detections[i].left(), detections[i].right(), detections[i].top(), detections[i].bottom()\n",
    "                shape = shape_predictor(image, detections[i])\n",
    "                desc = np.array(face_rec_model.compute_face_descriptor(pic, shape))\n",
    "                ax.add_patch(Rectangle((l, b), r - l, t - b, Fill=None, alpha=1, color='yellow'))\n",
    "                ax.text(l, b, name, color='white')\n",
    "                length = len(self.nodes)\n",
    "                self.nodes.append(Node(length), None, desc, label)\n",
    "        \n",
    "        self.adj = adj_matrix(self.list)\n",
    "    def create_neighbors(self): #still working\n",
    "        for \n",
    "    def whisper_pass(self)\n",
    "        \n",
    "    \"\"\"def addNode(self, node):\n",
    "        new_adj = np.array((self.size+1, self.size+1))\n",
    "        new_adj[:self.size][:self.size] = self.adj \n",
    "        self.size += 1\n",
    "        self.adj = new_adj\"\"\"\n",
    "    \"\"\"def addWeight(self, node1, node2):\n",
    "        node1.neighbors.append(node2.ID)\n",
    "        node2.neighbors.append(node1.ID)\n",
    "        v = np.sqrt(np.sum(node2.descriptor-node1.descriptor)**2)\n",
    "        self.adj[node1.ID][node2.ID] = (1/(v**2))\n",
    "        self.adj[node2.ID][node1.ID] = (1/(v**2))\"\"\"\n",
    "        "
   ]
  },
  {
   "cell_type": "code",
   "execution_count": null,
   "metadata": {
    "collapsed": true
   },
   "outputs": [],
   "source": [
    "class Node:\n",
    "    \"\"\" Describes a node in a graph, and the edges connected\n",
    "        to that node.\"\"\"\n",
    "\n",
    "    def __init__(self, ID, neighbors, descriptor, truth=None, file_path=None):\n",
    "        \"\"\" Parameters\n",
    "            ----------\n",
    "            ID : int\n",
    "                A unique identifier for this node. Should be a\n",
    "                value in [0, N-1], if there are N nodes in total.\n",
    "\n",
    "            neighbors : Sequence[int]\n",
    "                The node-IDs of the neighbors of this node.\n",
    "\n",
    "            descriptor : numpy.ndarray\n",
    "                The (128,) descriptor vector for this node's picture\n",
    "\n",
    "            truth : Optional[str]\n",
    "                If you have truth data, for checking your clustering algorithm,\n",
    "                you can include the label to check your clusters at the end.\n",
    "\n",
    "                If this node corresponds to a picture of Ryan, this truth\n",
    "                value can just be \"Ryan\"\n",
    "\n",
    "            file_path : Optional[str]\n",
    "                The file path of the image corresponding to this node, so\n",
    "                that you can sort the photos after you run your clustering\n",
    "                algorithm\n",
    "\n",
    "            \"\"\"\n",
    "        self.id = ID\n",
    "\n",
    "        # The node's label is initialized with the node's ID value at first,\n",
    "        # this label is then updated during the whispers algorithm\n",
    "        self.label = ID\n",
    "\n",
    "        # (n1_ID, n2_ID, ...)\n",
    "        # The IDs of this nodes neighbors. Empty if no neighbors\n",
    "        self.neighbors = list(neighbors)\n",
    "        self.descriptor = descriptor\n",
    "\n",
    "        self.truth = truth\n",
    "        self.file_path = file_path\n",
    "    "
   ]
  },
  {
   "cell_type": "code",
   "execution_count": null,
   "metadata": {
    "collapsed": true
   },
   "outputs": [],
   "source": [
    "def compute_edge(node):\n",
    "    weights = {}\n",
    "    for n in node.neighbors:\n",
    "        v = np.sqrt(np.sum((node.descriptor-n.descriptor)**2))\n",
    "        w = 1/v**2\n",
    "        if n.label in weights:\n",
    "            weights[n.label] += w\n",
    "        else:\n",
    "            weights[n.label] = w\n",
    "    return max(weights, key=weights.get)\n",
    "\n",
    "def adj_matrix(node_list):\n",
    "    adj = np.zeros([len(node_list),len(node_list)])\n",
    "    for i in range(0,len(node_list)):\n",
    "        for j in range(0,len(node_list)):\n",
    "            adj[i,j] = 1/(np.sqrt(np.sum((node_list[i].descriptor-node_list[j].descriptor)**2)))**2"
   ]
  }
 ],
 "metadata": {
  "kernelspec": {
   "display_name": "Python 3",
   "language": "python",
   "name": "python3"
  },
  "language_info": {
   "codemirror_mode": {
    "name": "ipython",
    "version": 3
   },
   "file_extension": ".py",
   "mimetype": "text/x-python",
   "name": "python",
   "nbconvert_exporter": "python",
   "pygments_lexer": "ipython3",
   "version": "3.6.1"
  }
 },
 "nbformat": 4,
 "nbformat_minor": 2
}
