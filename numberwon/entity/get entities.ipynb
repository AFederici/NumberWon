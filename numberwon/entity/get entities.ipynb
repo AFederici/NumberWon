{
 "cells": [
  {
   "cell_type": "code",
   "execution_count": 31,
   "metadata": {
    "collapsed": true,
    "deletable": true,
    "editable": true
   },
   "outputs": [],
   "source": [
    "from collections import Counter\n",
    "from nltk.tokenize import word_tokenize\n",
    "import string"
   ]
  },
  {
   "cell_type": "code",
   "execution_count": 32,
   "metadata": {
    "collapsed": true,
    "deletable": true,
    "editable": true
   },
   "outputs": [],
   "source": [
    "def top_entity_associated_with_item(item, documents, weighted=True, rangee=5):\n",
    "    #search for item.\n",
    "        #for i in feed. if i == feed:\n",
    "    #create a list of words that are close to word in proximity\n",
    "    #score based on proximity to word.\n",
    "    word_freq = Counter()\n",
    "    for i in documents:\n",
    "        old_spli = word_tokenize(i)\n",
    "        spli = []\n",
    "        for i in old_spli:\n",
    "            if i not in string.punctuation:\n",
    "                spli.append(i.lower())\n",
    "        for x in range(len(spli)):\n",
    "            if spli[x] == item:\n",
    "                for z in range(rangee):\n",
    "                    if not (x - z < 0):\n",
    "                        if spli[x-z] != spli[x]:\n",
    "                            if weighted:\n",
    "                                word_freq[spli[x-z]] += 1/abs((x -(x-z)))\n",
    "                            else:\n",
    "                                word_freq[spli[x-z]] += 1\n",
    "                    if not (x + z > (len(spli) - 1)):\n",
    "                        if spli[x+z] != spli[x]:\n",
    "                            if weighted:\n",
    "                                word_freq[spli[x+z]] += 1/abs((x -(x+z)))\n",
    "                            else:\n",
    "                                word_freq[spli[x+z]] += 1\n",
    "    return word_freq.most_common()"
   ]
  },
  {
   "cell_type": "code",
   "execution_count": 33,
   "metadata": {
    "collapsed": true,
    "deletable": true,
    "editable": true
   },
   "outputs": [],
   "source": [
    "#christine has to take o\n",
    "docs = [\"megan is very awesome. yes megan is yes she is awesome hooray. U.S.A.\", \"HOORay megan is great. U.S.A.\"]"
   ]
  },
  {
   "cell_type": "code",
   "execution_count": 35,
   "metadata": {
    "collapsed": false,
    "deletable": true,
    "editable": true
   },
   "outputs": [
    {
     "name": "stdout",
     "output_type": "stream",
     "text": [
      "['megan', 'is', 'very', 'awesome', 'yes', 'megan', 'is', 'yes', 'she', 'is', 'awesome', 'hooray', 'u.s.a']\n",
      "['hooray', 'megan', 'is', 'great', 'u.s.a']\n"
     ]
    },
    {
     "data": {
      "text/plain": [
       "[('is', 3.5),\n",
       " ('yes', 1.75),\n",
       " ('hooray', 1.0),\n",
       " ('very', 0.8333333333333333),\n",
       " ('awesome', 0.8333333333333333),\n",
       " ('great', 0.5),\n",
       " ('u.s.a', 0.3333333333333333),\n",
       " ('she', 0.3333333333333333)]"
      ]
     },
     "execution_count": 35,
     "metadata": {},
     "output_type": "execute_result"
    }
   ],
   "source": [
    "top_entity_associated_with_item(\"megan\", docs, weighted=True, rangee=5)"
   ]
  },
  {
   "cell_type": "code",
   "execution_count": 1,
   "metadata": {
    "collapsed": false
   },
   "outputs": [
    {
     "ename": "SyntaxError",
     "evalue": "invalid syntax (<ipython-input-1-4d4ee277acf4>, line 24)",
     "output_type": "error",
     "traceback": [
      "\u001b[0;36m  File \u001b[0;32m\"<ipython-input-1-4d4ee277acf4>\"\u001b[0;36m, line \u001b[0;32m24\u001b[0m\n\u001b[0;31m    ts]))[0]\u001b[0m\n\u001b[0m     ^\u001b[0m\n\u001b[0;31mSyntaxError\u001b[0m\u001b[0;31m:\u001b[0m invalid syntax\n"
     ]
    }
   ],
   "source": [
    "class entityDatabase:\n",
    "\n",
    "    from collections import Counter, defaultdict\n",
    "    import nltk, pickle\n",
    "    from nltk.tokenize import word_tokenize\n",
    "    import MySearchEngine as engine\n",
    "\n",
    "    def __init__(self, pickle_path):\n",
    "        self.ent_dict = defaultdict(list)\n",
    "        p = pickle.load(open(pickle_path), \"rb\")\n",
    "        #pickle_path example: \"C:\\\\Users\\\\User\\\\Desktop\\\\beaver\\\\NumberWon\\\\numberwon\\\\entity\\\\test.pickle\"\n",
    "        self.entize(p)\n",
    "    def get_by_id(self, id):\n",
    "        return self.ent_dict[id]\n",
    "    def entize(self, pickle):\n",
    "        for key, val in pickle.items():\n",
    "            tokens = nltk.word_tokenize(val)\n",
    "            pos = nltk.pos_tag(tokens)\n",
    "            named_entities = nltk.ne_chunk(pos, binary = True)\n",
    "            for i in range(0, len(named_entities)):\n",
    "                ents = named_entities.pop()\n",
    "                if getattr(ents, 'label', None) != None and ents.label() == \"NE\":\n",
    "                    z = list(zip(*[ne for ne in en\n",
    "ts]))[0]\n",
    "                    z = (\" \".join(z),)\n",
    "                    self.ent_dict[key].append(z)\n",
    "    def searchNentity(qword):\n",
    "        topdoc = engine.query(qword)[0][0]\n",
    "        return top_entity_associated_with_item(qword,engine.raw_text[topdoc]) #Megan's method\n",
    "\n",
    "    def docsearch(qword):\n",
    "        topdoc = engine.query(qword)[0][0]\n",
    "        raw = engine.raw_text[topdoc] #whole doc\n",
    "        return re.match(r'(?:[^.:;]+[.:;]){1}', raw).group() #first sentence\n",
    "    def top_entity_associated_with_item(item, documents, weighted=True, rangee=5):\n",
    "        #search for item.\n",
    "            #for i in feed. if i == feed:\n",
    "        #create a list of words that are close to word in proximity\n",
    "        #score based on proximity to word.\n",
    "        word_freq = Counter()\n",
    "        for i in documents:\n",
    "            old_spli = word_tokenize(i)\n",
    "            spli = []\n",
    "            for i in old_spli:\n",
    "                if i not in string.punctuation:\n",
    "                    spli.append(i.lower())\n",
    "            for x in range(len(spli)):\n",
    "                if spli[x] == item:\n",
    "                    for z in range(rangee):\n",
    "                        if not (x - z < 0):\n",
    "                            if spli[x-z] != spli[x]:\n",
    "                                if weighted:\n",
    "                                    word_freq[spli[x-z]] += 1/abs((x -(x-z)))\n",
    "                                else:\n",
    "                                    word_freq[spli[x-z]] += 1\n",
    "                        if not (x + z > (len(spli) - 1)):\n",
    "                            if spli[x+z] != spli[x]:\n",
    "                                if weighted:\n",
    "                                    word_freq[spli[x+z]] += 1/abs((x -(x+z)))\n",
    "                                else:\n",
    "                                    word_freq[spli[x+z]] += 1\n",
    "        return word_freq.most_common()"
   ]
  },
  {
   "cell_type": "code",
   "execution_count": null,
   "metadata": {
    "collapsed": true
   },
   "outputs": [],
   "source": []
  }
 ],
 "metadata": {
  "kernelspec": {
   "display_name": "Python 3",
   "language": "python",
   "name": "python3"
  },
  "language_info": {
   "codemirror_mode": {
    "name": "ipython",
    "version": 3
   },
   "file_extension": ".py",
   "mimetype": "text/x-python",
   "name": "python",
   "nbconvert_exporter": "python",
   "pygments_lexer": "ipython3",
   "version": "3.6.0"
  }
 },
 "nbformat": 4,
 "nbformat_minor": 2
}
