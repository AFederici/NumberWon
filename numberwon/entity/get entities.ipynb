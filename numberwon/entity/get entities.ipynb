{
 "cells": [
  {
   "cell_type": "code",
   "execution_count": 11,
   "metadata": {},
   "outputs": [],
   "source": [
    "from collections import Counter, defaultdict\n",
    "from nltk.tokenize import word_tokenize\n",
    "import pickle\n",
    "import string\n",
    "import nltk\n",
    "import re\n",
    "from nltk.tokenize import word_tokenize\n",
    "from searchEngine import MySearchEngine"
   ]
  },
  {
   "cell_type": "code",
   "execution_count": 74,
   "metadata": {},
   "outputs": [],
   "source": [
    "class entityDatabase:\n",
    "    def __init__(self, pickle_path):\n",
    "        pfile = open(pickle_path, mode='rb')\n",
    "        p = pickle.load(pfile)\n",
    "        #pickle_path example: \"C:\\\\Users\\\\User\\\\Desktop\\\\beaver\\\\NumberWon\\\\numberwon\\\\entity\\\\test.pickle\"\n",
    "        self.engine = MySearchEngine(file=pickle_path,version='d')\n",
    "        self.ent_dict = defaultdict(list)\n",
    "        self.ent_dict = self.entize(p, self.ent_dict)\n",
    "        self.ent_dict2 = defaultdict(list)\n",
    "        self.ent_dict2 = self.entize2(p, self.ent_dict2)\n",
    "\n",
    "    def get_by_id(self, id):\n",
    "        return self.ent_dict[id]\n",
    "    \n",
    "    def entize(self, pickle, dictionary):\n",
    "        #creates a dictionary where link = key, and value = list of entities\n",
    "        for key, val in pickle.items():\n",
    "            tokens = nltk.word_tokenize(val)\n",
    "            pos = nltk.pos_tag(tokens)\n",
    "            named_entities = nltk.ne_chunk(pos, binary = True)\n",
    "            for i in range(0, len(named_entities)):\n",
    "                ents = named_entities.pop()\n",
    "                if getattr(ents, 'label', None) != None and ents.label() == \"NE\":\n",
    "                    z = list(zip(*[ne for ne in ents]))[0]\n",
    "                    z = \" \".join(z)\n",
    "                    dictionary[key].append(z)\n",
    "        return dictionary\n",
    "\n",
    "    def entize2(self, pickle, dictionary):\n",
    "        counter = 0\n",
    "        for key, val in pickle.items():\n",
    "            tokens = nltk.word_tokenize(val)\n",
    "            pos = nltk.pos_tag(tokens)\n",
    "            named_entities = nltk.ne_chunk(pos, binary = True)\n",
    "            for i in range(0, len(named_entities)):\n",
    "                ents = named_entities.pop()\n",
    "                if getattr(ents, 'label', None) != None and ents.label() == \"NE\":\n",
    "                    z = list(zip(*[ne for ne in ents]))[0]\n",
    "                    z = (\" \".join(z), counter)\n",
    "                    dictionary[key].append(z)\n",
    "                counter += len(ents)\n",
    "        return dictionary\n",
    "          \n",
    "    def searchNentity(self, qword):\n",
    "        topdoc = self.engine.query(qword)[0][0]\n",
    "        return self.top_entity_associated_with_item(qword,self.engine.raw_text[topdoc]) #Megan's method\n",
    "\n",
    "    def docsearch(self, qword):\n",
    "        topdoc = self.engine.query(qword)[0][0]\n",
    "        raw = self.engine.raw_text[topdoc] #whole doc\n",
    "        return re.match(r'(?:[^.:;]+[.:;]){1}', raw).group() #first sentence\n",
    "    \n",
    "    def get_title_and_first_sentence(self, qword):\n",
    "        return self.engine.whats_new(qword)\n",
    "    \n",
    "    def top_entity_pos(self, item, most_c=10):\n",
    "        #search for item.\n",
    "            #for i in feed. if i == feed:\n",
    "        #create a list of words that are close to word in proximity\n",
    "        #score based on proximity to word.\n",
    "        #documents is already a list\n",
    "        word_freq = Counter()\n",
    "        for i in self.ent_dict2:\n",
    "            #print(self.ent_dict2[i])\n",
    "            for x in self.ent_dict2[i]:\n",
    "                if x[0] == item:\n",
    "                    for z in self.ent_dict2[i]:\n",
    "                        if x[0] != z[0]:\n",
    "                            #print((abs(x[1]-z[1])))\n",
    "                            word_freq[z[0]] += 1/(abs((x[1]-z[1])))\n",
    "        return word_freq\n",
    "        \n",
    "    def top_entity_dict(self, item, most_c=10):\n",
    "        #documents is already a list\n",
    "        #turn each list into a counter, add all counters together. \n",
    "        mega_counter = Counter()\n",
    "        for i in self.ent_dict:\n",
    "            #get list of counters etc\n",
    "            if item in self.ent_dict[i]:\n",
    "                c = Counter(self.ent_dict[i])\n",
    "                del c[item]\n",
    "                mega_counter += c\n",
    "        return mega_counter.most_common(most_c)"
   ]
  },
  {
   "cell_type": "code",
   "execution_count": 75,
   "metadata": {},
   "outputs": [],
   "source": [
    "edatb = entityDatabase(\"/Users/megankaye/Desktop/BeaverWorks/Work/NumberWon/numberwon/entity/testfeed.pickle\")"
   ]
  },
  {
   "cell_type": "code",
   "execution_count": 76,
   "metadata": {},
   "outputs": [],
   "source": [
    "#edatb.ent_dict2"
   ]
  },
  {
   "cell_type": "code",
   "execution_count": 77,
   "metadata": {},
   "outputs": [
    {
     "name": "stdout",
     "output_type": "stream",
     "text": [
      "413\n",
      "392\n",
      "378\n",
      "350\n",
      "330\n",
      "292\n",
      "222\n",
      "205\n",
      "132\n",
      "127\n",
      "75\n",
      "22\n",
      "13\n",
      "10\n",
      "4\n",
      "29\n",
      "32\n",
      "38\n",
      "41\n",
      "45\n",
      "61\n",
      "64\n",
      "76\n",
      "485\n",
      "464\n",
      "450\n",
      "422\n",
      "402\n",
      "364\n",
      "294\n",
      "277\n",
      "204\n",
      "199\n",
      "147\n",
      "94\n",
      "85\n",
      "82\n",
      "68\n",
      "43\n",
      "40\n",
      "34\n",
      "31\n",
      "27\n",
      "11\n",
      "8\n",
      "4\n"
     ]
    },
    {
     "data": {
      "text/plain": [
       "Counter({'American Idol': 0.0128991413761722,\n",
       "         'Britain': 0.057738572574178026,\n",
       "         'Calvin Harris': 0.006171910281499323,\n",
       "         'FILE': 0.10730253353204174,\n",
       "         'Glastonbury Festival': 0.05625,\n",
       "         'Los Angeles': 0.004706192821956369,\n",
       "         'MTV': 0.06057600650304224,\n",
       "         'MTV Video Music Awards': 0.2576878468189444,\n",
       "         'Perry': 0.03261377278184001,\n",
       "         'Pop': 0.5278637770897833,\n",
       "         'Pyramid Stage': 0.05925925925925926,\n",
       "         'Rhythm': 0.008488157083736902,\n",
       "         'Somerset': 0.05572755417956656,\n",
       "         'Taylor Swift': 0.005517865219357756,\n",
       "         'VMA': 0.09659364785415206,\n",
       "         'Worthy Farm': 0.05664830841856806,\n",
       "         'Zayn Malik': 0.0052268111035883545})"
      ]
     },
     "execution_count": 77,
     "metadata": {},
     "output_type": "execute_result"
    }
   ],
   "source": [
    "edatb.top_entity_pos(\"Katy Perry\")"
   ]
  },
  {
   "cell_type": "code",
   "execution_count": 78,
   "metadata": {},
   "outputs": [
    {
     "data": {
      "text/plain": [
       "[('MTV Video Music Awards', 3),\n",
       " ('MTV', 2),\n",
       " ('Perry', 2),\n",
       " ('Pop', 2),\n",
       " ('VMA', 2),\n",
       " ('Calvin Harris', 1),\n",
       " ('Somerset', 1),\n",
       " ('Zayn Malik', 1),\n",
       " ('American Idol', 1),\n",
       " ('FILE', 1)]"
      ]
     },
     "execution_count": 78,
     "metadata": {},
     "output_type": "execute_result"
    }
   ],
   "source": [
    "edatb.top_entity_dict(\"Katy Perry\", most_c=10)"
   ]
  },
  {
   "cell_type": "code",
   "execution_count": 36,
   "metadata": {},
   "outputs": [
    {
     "data": {
      "text/plain": [
       "'Stephen Colbert brings animated satire of Donald Trump to Showtime\\n\\nFILE PHOTO:'"
      ]
     },
     "execution_count": 36,
     "metadata": {},
     "output_type": "execute_result"
    }
   ],
   "source": [
    "edatb.docsearch(\"Trump\")"
   ]
  },
  {
   "cell_type": "code",
   "execution_count": 37,
   "metadata": {},
   "outputs": [
    {
     "data": {
      "text/plain": [
       "' Stephen Colbert brings animated satire of Donald Trump to Showtime\\n\\nFILE PHOTO: CBS television comedian Stephen Colbert rehearses a sketch on the floor of the Republican National Convention in Cleveland, Ohio, US July 17, 2016'"
      ]
     },
     "execution_count": 37,
     "metadata": {},
     "output_type": "execute_result"
    }
   ],
   "source": [
    "edatb.engine.whats_new(\"Trump\")"
   ]
  },
  {
   "cell_type": "code",
   "execution_count": null,
   "metadata": {
    "collapsed": true
   },
   "outputs": [],
   "source": []
  }
 ],
 "metadata": {
  "kernelspec": {
   "display_name": "Python [default]",
   "language": "python",
   "name": "python3"
  },
  "language_info": {
   "codemirror_mode": {
    "name": "ipython",
    "version": 3
   },
   "file_extension": ".py",
   "mimetype": "text/x-python",
   "name": "python",
   "nbconvert_exporter": "python",
   "pygments_lexer": "ipython3",
   "version": "3.5.3"
  }
 },
 "nbformat": 4,
 "nbformat_minor": 2
}
