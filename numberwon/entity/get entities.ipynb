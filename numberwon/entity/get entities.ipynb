{
 "cells": [
  {
   "cell_type": "code",
   "execution_count": 11,
   "metadata": {},
   "outputs": [],
   "source": [
    "from collections import Counter, defaultdict\n",
    "from nltk.tokenize import word_tokenize\n",
    "import pickle\n",
    "import string\n",
    "import nltk\n",
    "import re\n",
    "from nltk.tokenize import word_tokenize\n",
    "from searchEngine import MySearchEngine"
   ]
  },
  {
   "cell_type": "code",
   "execution_count": 12,
   "metadata": {},
   "outputs": [],
   "source": [
    "class entityDatabase:\n",
    "    def __init__(self, pickle_path):\n",
    "        self.ent_dict = defaultdict(list)\n",
    "        pfile = open(pickle_path, mode='rb')\n",
    "        p = pickle.load(pfile)\n",
    "        #pickle_path example: \"C:\\\\Users\\\\User\\\\Desktop\\\\beaver\\\\NumberWon\\\\numberwon\\\\entity\\\\test.pickle\"\n",
    "        self.entize(p)\n",
    "        self.engine = MySearchEngine(file=pickle_path,version='d')\n",
    "        \n",
    "    def get_by_id(self, id):\n",
    "        return self.ent_dict[id]\n",
    "    \n",
    "    def entize(self, pickle):\n",
    "        for key, val in pickle.items():\n",
    "            tokens = nltk.word_tokenize(val)\n",
    "            pos = nltk.pos_tag(tokens)\n",
    "            named_entities = nltk.ne_chunk(pos, binary = True)\n",
    "            for i in range(0, len(named_entities)):\n",
    "                ents = named_entities.pop()\n",
    "                if getattr(ents, 'label', None) != None and ents.label() == \"NE\":\n",
    "                    z = list(zip(*[ne for ne in ents]))[0]\n",
    "                    z = \" \".join(z)\n",
    "                    self.ent_dict[key].append(z)\n",
    "\n",
    "    #fix!!!             \n",
    "    def searchNentity(self, qword):\n",
    "        topdoc = self.engine.query(qword)[0][0]\n",
    "        return self.top_entity_associated_with_item(qword,self.engine.raw_text[topdoc]) #Megan's method\n",
    "\n",
    "    def docsearch(self, qword):\n",
    "        topdoc = self.engine.query(qword)[0][0]\n",
    "        raw = self.engine.raw_text[topdoc] #whole doc\n",
    "        return re.match(r'(?:[^.:;]+[.:;]){1}', raw).group() #first sentence\n",
    "    #fix!!!\n",
    "    \n",
    "    def get_title_and_first_sentence(self, qword):\n",
    "        return self.engine.whats_new(qword)\n",
    "    \n",
    "    def top_entity_associated_with_item(self, item, weighted=True, rangee=5, most_c=10):\n",
    "        #search for item.\n",
    "            #for i in feed. if i == feed:\n",
    "        #create a list of words that are close to word in proximity\n",
    "        #score based on proximity to word.\n",
    "        #documents is already a list\n",
    "        word_freq = Counter()\n",
    "        for i in self.ent_dict:\n",
    "            for x in range(len(self.ent_dict[i])):\n",
    "                if self.ent_dict[i][x] == item:\n",
    "                    for z in range(rangee):\n",
    "                        if not (x - z < 0):\n",
    "                            if self.ent_dict[i][x-z] != self.ent_dict[i][x]:\n",
    "                                if weighted:\n",
    "                                    word_freq[self.ent_dict[i][x-z]] += 1/abs((x -(x-z)))\n",
    "                                else:\n",
    "                                    word_freq[self.ent_dict[i][x-z]] += 1\n",
    "                        if not (x + z > (len(self.ent_dict[i]) - 1)):\n",
    "                            if self.ent_dict[i][x+z] != self.ent_dict[i][x]:\n",
    "                                if weighted:\n",
    "                                    word_freq[self.ent_dict[i][x+z]] += 1/abs((x -(x+z)))\n",
    "                                else:\n",
    "                                    word_freq[self.ent_dict[i][x+z]] += 1\n",
    "        return word_freq.most_common(most_c)\n",
    "    \n",
    "    def top_entity_dict(self, item, most_c=10):\n",
    "        #documents is already a list\n",
    "        #turn each list into a counter, add all counters together. \n",
    "        mega_counter = Counter()\n",
    "        for i in self.ent_dict:\n",
    "            #get list of counters etc\n",
    "            if item in self.ent_dict[i]:\n",
    "                c = Counter(self.ent_dict[i])\n",
    "                del c[item]\n",
    "                mega_counter += c\n",
    "        return mega_counter.most_common(most_c)"
   ]
  },
  {
   "cell_type": "code",
   "execution_count": 13,
   "metadata": {},
   "outputs": [],
   "source": [
    "edatb = entityDatabase(\"/Users/megankaye/Desktop/BeaverWorks/Work/NumberWon/numberwon/entity/testfeed.pickle\")"
   ]
  },
  {
   "cell_type": "code",
   "execution_count": 14,
   "metadata": {},
   "outputs": [],
   "source": [
    "#edatb.ent_dict"
   ]
  },
  {
   "cell_type": "code",
   "execution_count": 15,
   "metadata": {},
   "outputs": [
    {
     "data": {
      "text/plain": [
       "[('MTV Video Music Awards', 2.3559523809523806),\n",
       " ('Pop', 2.225),\n",
       " ('VMA', 0.7747326203208557),\n",
       " ('FILE', 0.6428571428571428),\n",
       " ('Britain', 0.6428571428571428),\n",
       " ('Perry', 0.5602564102564103),\n",
       " ('MTV', 0.5315734989648033),\n",
       " ('Pyramid Stage', 0.5),\n",
       " ('Glastonbury Festival', 0.5),\n",
       " ('Worthy Farm', 0.45)]"
      ]
     },
     "execution_count": 15,
     "metadata": {},
     "output_type": "execute_result"
    }
   ],
   "source": [
    "edatb.top_entity_associated_with_item(\"Katy Perry\", weighted=True, rangee=100)"
   ]
  },
  {
   "cell_type": "code",
   "execution_count": 16,
   "metadata": {},
   "outputs": [
    {
     "data": {
      "text/plain": [
       "[('MTV Video Music Awards', 3),\n",
       " ('MTV', 2),\n",
       " ('Perry', 2),\n",
       " ('Pop', 2),\n",
       " ('VMA', 2),\n",
       " ('Calvin Harris', 1),\n",
       " ('Somerset', 1),\n",
       " ('Zayn Malik', 1),\n",
       " ('American Idol', 1),\n",
       " ('FILE', 1)]"
      ]
     },
     "execution_count": 16,
     "metadata": {},
     "output_type": "execute_result"
    }
   ],
   "source": [
    "edatb.top_entity_dict(\"Katy Perry\", most_c=10)"
   ]
  },
  {
   "cell_type": "code",
   "execution_count": 21,
   "metadata": {},
   "outputs": [
    {
     "data": {
      "text/plain": [
       "'Stephen Colbert brings animated satire of Donald Trump to Showtime\\n\\nFILE PHOTO:'"
      ]
     },
     "execution_count": 21,
     "metadata": {},
     "output_type": "execute_result"
    }
   ],
   "source": [
    "edatb.docsearch(\"Trump\")"
   ]
  },
  {
   "cell_type": "code",
   "execution_count": 22,
   "metadata": {},
   "outputs": [
    {
     "data": {
      "text/plain": [
       "' Stephen Colbert brings animated satire of Donald Trump to Showtime\\n\\nFILE PHOTO: CBS television comedian Stephen Colbert rehearses a sketch on the floor of the Republican National Convention in Cleveland, Ohio, US July 17, 2016'"
      ]
     },
     "execution_count": 22,
     "metadata": {},
     "output_type": "execute_result"
    }
   ],
   "source": [
    "edatb.engine.whats_new(\"Trump\")"
   ]
  },
  {
   "cell_type": "code",
   "execution_count": null,
   "metadata": {
    "collapsed": true
   },
   "outputs": [],
   "source": []
  }
 ],
 "metadata": {
  "kernelspec": {
   "display_name": "Python [default]",
   "language": "python",
   "name": "python3"
  },
  "language_info": {
   "codemirror_mode": {
    "name": "ipython",
    "version": 3
   },
   "file_extension": ".py",
   "mimetype": "text/x-python",
   "name": "python",
   "nbconvert_exporter": "python",
   "pygments_lexer": "ipython3",
   "version": "3.5.3"
  }
 },
 "nbformat": 4,
 "nbformat_minor": 2
}
