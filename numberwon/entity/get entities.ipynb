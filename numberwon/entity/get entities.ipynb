{
 "cells": [
  {
   "cell_type": "code",
   "execution_count": 31,
   "metadata": {},
   "outputs": [],
   "source": [
    "from collections import Counter\n",
    "from nltk.tokenize import word_tokenize\n",
    "import string"
   ]
  },
  {
   "cell_type": "code",
   "execution_count": 32,
   "metadata": {
    "collapsed": true
   },
   "outputs": [],
   "source": [
    "def top_entity_associated_with_item(item, documents, weighted=True, rangee=5):\n",
    "    #search for item.\n",
    "        #for i in feed. if i == feed:\n",
    "    #create a list of words that are close to word in proximity\n",
    "    #score based on proximity to word.\n",
    "    word_freq = Counter()\n",
    "    for i in documents:\n",
    "        old_spli = word_tokenize(i)\n",
    "        spli = []\n",
    "        for i in old_spli:\n",
    "            if i not in string.punctuation:\n",
    "                spli.append(i.lower())\n",
    "        for x in range(len(spli)):\n",
    "            if spli[x] == item:\n",
    "                for z in range(rangee):\n",
    "                    if not (x - z < 0):\n",
    "                        if spli[x-z] != spli[x]:\n",
    "                            if weighted:\n",
    "                                word_freq[spli[x-z]] += 1/abs((x -(x-z)))\n",
    "                            else:\n",
    "                                word_freq[spli[x-z]] += 1\n",
    "                    if not (x + z > (len(spli) - 1)):\n",
    "                        if spli[x+z] != spli[x]:\n",
    "                            if weighted:\n",
    "                                word_freq[spli[x+z]] += 1/abs((x -(x+z)))\n",
    "                            else:\n",
    "                                word_freq[spli[x+z]] += 1\n",
    "    return word_freq.most_common()"
   ]
  },
  {
   "cell_type": "code",
   "execution_count": 33,
   "metadata": {
    "collapsed": true
   },
   "outputs": [],
   "source": [
    "#christine has to take o\n",
    "docs = [\"megan is very awesome. yes megan is yes she is awesome hooray. U.S.A.\", \"HOORay megan is great. U.S.A.\"]"
   ]
  },
  {
   "cell_type": "code",
   "execution_count": 35,
   "metadata": {},
   "outputs": [
    {
     "name": "stdout",
     "output_type": "stream",
     "text": [
      "['megan', 'is', 'very', 'awesome', 'yes', 'megan', 'is', 'yes', 'she', 'is', 'awesome', 'hooray', 'u.s.a']\n",
      "['hooray', 'megan', 'is', 'great', 'u.s.a']\n"
     ]
    },
    {
     "data": {
      "text/plain": [
       "[('is', 3.5),\n",
       " ('yes', 1.75),\n",
       " ('hooray', 1.0),\n",
       " ('very', 0.8333333333333333),\n",
       " ('awesome', 0.8333333333333333),\n",
       " ('great', 0.5),\n",
       " ('u.s.a', 0.3333333333333333),\n",
       " ('she', 0.3333333333333333)]"
      ]
     },
     "execution_count": 35,
     "metadata": {},
     "output_type": "execute_result"
    }
   ],
   "source": [
    "top_entity_associated_with_item(\"megan\", docs, weighted=True, rangee=5)"
   ]
  }
 ],
 "metadata": {
  "kernelspec": {
   "display_name": "Python [conda root]",
   "language": "python",
   "name": "conda-root-py"
  },
  "language_info": {
   "codemirror_mode": {
    "name": "ipython",
    "version": 3
   },
   "file_extension": ".py",
   "mimetype": "text/x-python",
   "name": "python",
   "nbconvert_exporter": "python",
   "pygments_lexer": "ipython3",
   "version": "3.5.3"
  }
 },
 "nbformat": 4,
 "nbformat_minor": 2
}
