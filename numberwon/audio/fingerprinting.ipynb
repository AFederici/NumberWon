{
 "cells": [
  {
   "cell_type": "code",
   "execution_count": null,
   "metadata": {
    "collapsed": true
   },
   "outputs": [],
   "source": [
    "import numpy as np\n",
    "import librosa\n",
    "import microphone\n",
    "from collections import Counter\n",
    "class FingerPrint:\n",
    "    def fingerprinting(peaks_insert, database, song_id):\n",
    "        \n",
    "        for index, freq_time in enumerate(peaks_insert):\n",
    "            try:\n",
    "                dict_test = peaks_insert[index:index+20]\n",
    "                #peaks_insert[index] = f_1\n",
    "                for index2, freq_time2 in dict_test:\n",
    "                    dictionary[(peaks_insert[index], peaks_insert[index2], freq_time2-freq_time)].append((song_id, freq_time))\n",
    "            except:\n",
    "                print(index)\n",
    "                print(len(peaks_insert))\n",
    "                break\n",
    "        return dictionary\n",
    "    \n",
    "    def compare(database, peaks_sample):\n",
    "        #going to take \n",
    "        \n",
    "        #Counter(elem[0] for elem in list1)\n",
    "        #peaks: [(time, freq)]\n",
    "        \n",
    "        #still need to generate features\n",
    "        \n",
    "        mostCommon = []\n",
    "        for index, freq_time in enumerate(peaks_sample):\n",
    "            time, freq = freq_time\n",
    "            try:\n",
    "                time2, freq2 = peaks_sample[index+1]\n",
    "                appending = database[(freq, freq2, time2-time)] #list of song_id's and times that correspond to frequencies and delta t\n",
    "                #going through appending\n",
    "                for tup in appending:\n",
    "                    time_new = time-tup[1]\n",
    "                    mostCommon.append(tup[0], time_new)\n",
    "            except:\n",
    "                print(index)\n",
    "                print(len(peaks))\n",
    "                break\n",
    "        #t*-t1, t*-t2, offset should be the same\n",
    "        #t1 and t2 are times in the database\n",
    "        \n",
    "#         most = Counter.most_common(10) #for debugging\n",
    "#         print(most) #for debugging\n",
    "#         first = most[0] #for debugging\n",
    "#         return first[0]\n",
    "        return Counter.most_common(1)[0]\n"
   ]
  }
 ],
 "metadata": {
  "kernelspec": {
   "display_name": "Python 3",
   "language": "python",
   "name": "python3"
  },
  "language_info": {
   "codemirror_mode": {
    "name": "ipython",
    "version": 3
   },
   "file_extension": ".py",
   "mimetype": "text/x-python",
   "name": "python",
   "nbconvert_exporter": "python",
   "pygments_lexer": "ipython3",
   "version": "3.6.0"
  }
 },
 "nbformat": 4,
 "nbformat_minor": 2
}
