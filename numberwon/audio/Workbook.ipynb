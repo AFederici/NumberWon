{
 "cells": [
  {
   "cell_type": "code",
   "execution_count": 1,
   "metadata": {
    "collapsed": false,
    "deletable": true,
    "editable": true
   },
   "outputs": [],
   "source": [
    "from audio import Audio\n",
    "from fingerprint import FingerPrint\n",
    "from database import Database\n",
    "import numpy as np"
   ]
  },
  {
   "cell_type": "code",
   "execution_count": 9,
   "metadata": {
    "collapsed": true,
    "deletable": true,
    "editable": true
   },
   "outputs": [],
   "source": [
    "a = Audio()\n",
    "ff = FingerPrint()\n",
    "d = Database()"
   ]
  },
  {
   "cell_type": "code",
   "execution_count": 10,
   "metadata": {
    "collapsed": false,
    "deletable": true,
    "editable": true
   },
   "outputs": [],
   "source": [
    "S,f = a.load_spectrogram(a.load_files(r\"/Users/huangfamily/Downloads/Justin Bieber- Love Yourself - MP3.mp3\"))\n",
    "peaks = ff.find_peaks(S,f)\n",
    "ff.fingerprinting(peaks,d,\"Love Yourself\")"
   ]
  },
  {
   "cell_type": "code",
   "execution_count": 11,
   "metadata": {
    "collapsed": false,
    "deletable": true,
    "editable": true
   },
   "outputs": [],
   "source": [
    "S,f = a.load_spectrogram(a.load_files(r\"/Users/huangfamily/Music/iTunes/iTunes Media/Music/Adele/21/11 Someone Like You.mp3\"))"
   ]
  },
  {
   "cell_type": "code",
   "execution_count": 12,
   "metadata": {
    "collapsed": true,
    "deletable": true,
    "editable": true
   },
   "outputs": [],
   "source": [
    "peaks = ff.find_peaks(S,f)"
   ]
  },
  {
   "cell_type": "code",
   "execution_count": 13,
   "metadata": {
    "collapsed": false,
    "deletable": true,
    "editable": true
   },
   "outputs": [],
   "source": [
    "ff.fingerprinting(peaks,d,\"Someone Like You\")\n",
    "S,f = a.load_spectrogram(a.load_files(r\"/Users/huangfamily/Music/iTunes/iTunes Media/Music/Owl City/Ocean Eyes/09 Fireflies.mp3\"))\n",
    "ff.fingerprinting(ff.find_peaks(S,f),d,\"Ocean Eyes\")\n",
    "S,f = a.load_spectrogram(a.load_files(r\"/Users/huangfamily/Music/iTunes/iTunes Media/Music/Maroon 5/V/Sugar.mp3\"))\n",
    "ff.fingerprinting(ff.find_peaks(S,f),d,\"Sugar\")"
   ]
  },
  {
   "cell_type": "code",
   "execution_count": 14,
   "metadata": {
    "collapsed": false,
    "deletable": true,
    "editable": true
   },
   "outputs": [
    {
     "data": {
      "text/plain": [
       "'successfully saved'"
      ]
     },
     "execution_count": 14,
     "metadata": {},
     "output_type": "execute_result"
    }
   ],
   "source": [
    "d.save_obj()"
   ]
  },
  {
   "cell_type": "code",
   "execution_count": null,
   "metadata": {
    "collapsed": false,
    "deletable": true,
    "editable": true
   },
   "outputs": [],
   "source": [
    "# print(S) \n",
    "S1,f1 = a.load_spectrogram(a.mic_input(10))\n",
    "ff.compare(d,ff.find_peaks(S1,f1))"
   ]
  },
  {
   "cell_type": "code",
   "execution_count": 14,
   "metadata": {
    "collapsed": false,
    "deletable": true,
    "editable": true
   },
   "outputs": [
    {
     "data": {
      "text/plain": [
       "'Sugar'"
      ]
     },
     "execution_count": 14,
     "metadata": {},
     "output_type": "execute_result"
    }
   ],
   "source": [
    "ff.compare(d,ff.find_peaks(S,f))"
   ]
  },
  {
   "cell_type": "code",
   "execution_count": null,
   "metadata": {
    "collapsed": true,
    "deletable": true,
    "editable": true
   },
   "outputs": [],
   "source": []
  }
 ],
 "metadata": {
  "kernelspec": {
   "display_name": "Python 3",
   "language": "python",
   "name": "python3"
  },
  "language_info": {
   "codemirror_mode": {
    "name": "ipython",
    "version": 3
   },
   "file_extension": ".py",
   "mimetype": "text/x-python",
   "name": "python",
   "nbconvert_exporter": "python",
   "pygments_lexer": "ipython3",
   "version": "3.6.0"
  }
 },
 "nbformat": 4,
 "nbformat_minor": 2
}
