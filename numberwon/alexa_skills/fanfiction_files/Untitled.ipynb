{
 "cells": [
  {
   "cell_type": "code",
   "execution_count": 3,
   "metadata": {},
   "outputs": [
    {
     "name": "stdout",
     "output_type": "stream",
     "text": [
      "\n",
      "~Gripped tightly in her hand, sweat dripping all over it. \"NOW!\" Harry yelled.\n",
      "\"REDUCTO!\" rang all six of their voices, pointing their wands at them. Death\n",
      "Eaters. \"Where's Sirius?\" Harry asked Hagrid a few questions all through\n",
      "schooling and when she started Hogwarts last year. She was really shy and\n",
      "hardly talked to anyone at the school, paralyzing muggle-borns at random. The\n",
      "feeling literally haunted Hermione, but deep in her heart she knew she needed\n",
      "a quill but with her mind clouded by the injustice Hogwarts was currently\n",
      "exhibiting, Hermione dashed towards the bulletin board, where most of the week\n",
      "leading up to the flying lesson reading Quidditch Through the Ages, a\n",
      "fascinating book about the popular wizarding sport and flying in general.\n",
      "During breakfast the morning before their class, she was helping the other as\n",
      "the majority of the tryouts.\n",
      "\n",
      "\n"
     ]
    }
   ],
   "source": [
    "print(\"\\n~Gripped tightly in her hand, sweat dripping all over it. \\\"NOW!\\\" Harry yelled.\\n\\\"REDUCTO!\\\" rang all six of their voices, pointing their wands at them. Death\\nEaters. \\\"Where's Sirius?\\\" Harry asked Hagrid a few questions all through\\nschooling and when she started Hogwarts last year. She was really shy and\\nhardly talked to anyone at the school, paralyzing muggle-borns at random. The\\nfeeling literally haunted Hermione, but deep in her heart she knew she needed\\na quill but with her mind clouded by the injustice Hogwarts was currently\\nexhibiting, Hermione dashed towards the bulletin board, where most of the week\\nleading up to the flying lesson reading Quidditch Through the Ages, a\\nfascinating book about the popular wizarding sport and flying in general.\\nDuring breakfast the morning before their class, she was helping the other as\\nthe majority of the tryouts.\\n\\n\")"
   ]
  },
  {
   "cell_type": "code",
   "execution_count": 5,
   "metadata": {},
   "outputs": [
    {
     "name": "stdout",
     "output_type": "stream",
     "text": [
      "\n",
      "~~Gripped tightly in her hand, sweat dripping all over it. \"NOW!\" Harry\n",
      "yelled. \"REDUCTO!\" rang all six of their voices, pointing their wands at them.\n",
      "Death Eaters. \"Where's Sirius?\" Harry asked Hagrid a few questions all through\n",
      "schooling and when she started Hogwarts last year. She was really shy and\n",
      "hardly talked to anyone at the school, paralyzing muggle-borns at random. The\n",
      "feeling literally haunted Hermione, but deep in her heart she knew she needed\n",
      "a quill but with her mind clouded by the injustice Hogwarts was currently\n",
      "exhibiting, Hermione dashed towards the bulletin board, where most of the week\n",
      "leading up to the flying lesson reading Quidditch Through the Ages, a\n",
      "fascinating book about the popular wizarding sport and flying in general.\n",
      "During breakfast the morning before their class, she was helping the other as\n",
      "the majority of the tryouts.\n",
      "\n",
      "\n"
     ]
    }
   ],
   "source": [
    "print(\"\\n~~Gripped tightly in her hand, sweat dripping all over it. \\\"NOW!\\\" Harry\\nyelled. \\\"REDUCTO!\\\" rang all six of their voices, pointing their wands at them.\\nDeath Eaters. \\\"Where's Sirius?\\\" Harry asked Hagrid a few questions all through\\nschooling and when she started Hogwarts last year. She was really shy and\\nhardly talked to anyone at the school, paralyzing muggle-borns at random. The\\nfeeling literally haunted Hermione, but deep in her heart she knew she needed\\na quill but with her mind clouded by the injustice Hogwarts was currently\\nexhibiting, Hermione dashed towards the bulletin board, where most of the week\\nleading up to the flying lesson reading Quidditch Through the Ages, a\\nfascinating book about the popular wizarding sport and flying in general.\\nDuring breakfast the morning before their class, she was helping the other as\\nthe majority of the tryouts.\\n\\n\")"
   ]
  },
  {
   "cell_type": "code",
   "execution_count": 6,
   "metadata": {},
   "outputs": [
    {
     "name": "stdout",
     "output_type": "stream",
     "text": [
      "\n",
      "~~~~~~~~~~~~~~~~~~~~~~~Gripped tightly in her hand, sweat dripping all over\n",
      "it. \"NOW!\" Harry yelled. \"REDUCTO!\" rang all six of their voices, pointing\n",
      "their wands at the shelves broke, all around the time Harry entered the\n",
      "Gryffindor table. One of them had ever been afraid of. They became friends\n",
      "after that, and Jessie went down here, and occasionally they asked what was\n",
      "guarding the stone. He informed them that Snape was indeed a girl. He was so\n",
      "blind to his own emotions she was surprised he could play so well as Keeper on\n",
      "Gryffindor's team. But even in that case, he couldn't help but yawn. Percy\n",
      "pointed out the girls' dormitory, upstairs on the left side, and the boys' on\n",
      "the right. Hermione, one where she could crawl through. She made her way on\n",
      "the floor at her feet. \"I dearsay, Jessie! Alone in here again. Mind some\n",
      "company?\" Her eyes flicked open and she yawned in greeting to the Fat Friar\n",
      "who joined her here at least once a week.\n",
      "\n",
      "\n"
     ]
    }
   ],
   "source": [
    "print(\"\\n~~~~~~~~~~~~~~~~~~~~~~~Gripped tightly in her hand, sweat dripping all over\\nit. \\\"NOW!\\\" Harry yelled. \\\"REDUCTO!\\\" rang all six of their voices, pointing\\ntheir wands at the shelves broke, all around the time Harry entered the\\nGryffindor table. One of them had ever been afraid of. They became friends\\nafter that, and Jessie went down here, and occasionally they asked what was\\nguarding the stone. He informed them that Snape was indeed a girl. He was so\\nblind to his own emotions she was surprised he could play so well as Keeper on\\nGryffindor's team. But even in that case, he couldn't help but yawn. Percy\\npointed out the girls' dormitory, upstairs on the left side, and the boys' on\\nthe right. Hermione, one where she could crawl through. She made her way on\\nthe floor at her feet. \\\"I dearsay, Jessie! Alone in here again. Mind some\\ncompany?\\\" Her eyes flicked open and she yawned in greeting to the Fat Friar\\nwho joined her here at least once a week.\\n\\n\")"
   ]
  },
  {
   "cell_type": "code",
   "execution_count": null,
   "metadata": {
    "collapsed": true
   },
   "outputs": [],
   "source": []
  }
 ],
 "metadata": {
  "kernelspec": {
   "display_name": "Python [conda root]",
   "language": "python",
   "name": "conda-root-py"
  },
  "language_info": {
   "codemirror_mode": {
    "name": "ipython",
    "version": 3
   },
   "file_extension": ".py",
   "mimetype": "text/x-python",
   "name": "python",
   "nbconvert_exporter": "python",
   "pygments_lexer": "ipython3",
   "version": "3.5.3"
  }
 },
 "nbformat": 4,
 "nbformat_minor": 2
}
