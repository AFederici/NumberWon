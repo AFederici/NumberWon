{
 "cells": [
  {
   "cell_type": "code",
   "execution_count": 9,
   "metadata": {},
   "outputs": [
    {
     "name": "stdout",
     "output_type": "stream",
     "text": [
      "File already exists:\n",
      "\t/Users/megankaye/Desktop/BeaverWorks/Work/Week2/DlibModels/dlib_models/dlib_face_recognition_resnet_model_v1.dat\n",
      "File already exists:\n",
      "\t/Users/megankaye/Desktop/BeaverWorks/Work/Week2/DlibModels/dlib_models/shape_predictor_68_face_landmarks.dat\n"
     ]
    }
   ],
   "source": [
    "from profiles.Profiles.Profile import Profile\n",
    "from profiles.Profiles.UserDatabase import UserDatabase\n",
    "from face.FaceRec import Face_Recognition\n",
    "%matplotlib notebook\n",
    "import matplotlib.pyplot as plt"
   ]
  },
  {
   "cell_type": "code",
   "execution_count": 10,
   "metadata": {},
   "outputs": [],
   "source": [
    "d = UserDatabase(\"profiles/profiles_test_database.npy\")\n",
    "f = Face_Recognition()"
   ]
  },
  {
   "cell_type": "code",
   "execution_count": null,
   "metadata": {
    "collapsed": true
   },
   "outputs": [],
   "source": [
    "m = Profile(\"megan\")"
   ]
  },
  {
   "cell_type": "code",
   "execution_count": null,
   "metadata": {
    "collapsed": true
   },
   "outputs": [],
   "source": [
    "#pic = f.take_picture()\n",
    "#fig, ax = plt.subplots()\n",
    "#ax.imshow(pic)\n",
    "m.update_face_vectors(f.get_face_descriptor_vector())"
   ]
  },
  {
   "cell_type": "code",
   "execution_count": null,
   "metadata": {},
   "outputs": [],
   "source": [
    "m.face_vectors"
   ]
  },
  {
   "cell_type": "code",
   "execution_count": null,
   "metadata": {
    "collapsed": true
   },
   "outputs": [],
   "source": [
    "d.update(m.name, m)"
   ]
  },
  {
   "cell_type": "code",
   "execution_count": null,
   "metadata": {},
   "outputs": [],
   "source": [
    "d.save_obj(\"profiles/profiles_test_database.npy\")"
   ]
  },
  {
   "cell_type": "code",
   "execution_count": 11,
   "metadata": {
    "collapsed": true
   },
   "outputs": [],
   "source": [
    "d.add_preferences_by_user(\"megan\", \"book\", \"fantasy\")"
   ]
  },
  {
   "cell_type": "code",
   "execution_count": 13,
   "metadata": {},
   "outputs": [
    {
     "data": {
      "text/plain": [
       "'successfully saved'"
      ]
     },
     "execution_count": 13,
     "metadata": {},
     "output_type": "execute_result"
    }
   ],
   "source": [
    "d.save_obj(\"profiles/profiles_test_database.npy\")"
   ]
  },
  {
   "cell_type": "code",
   "execution_count": 12,
   "metadata": {},
   "outputs": [
    {
     "data": {
      "text/plain": [
       "['fantasy']"
      ]
     },
     "execution_count": 12,
     "metadata": {},
     "output_type": "execute_result"
    }
   ],
   "source": [
    "d.get_preferences_by_user(\"megan\", \"book\")"
   ]
  },
  {
   "cell_type": "code",
   "execution_count": null,
   "metadata": {},
   "outputs": [],
   "source": [
    "d.remove_preferences_by_user(\"megan\", \"fanfiction\", \"harry potter\")"
   ]
  },
  {
   "cell_type": "code",
   "execution_count": null,
   "metadata": {},
   "outputs": [],
   "source": [
    "d.get_preferences_by_user(\"Megan\", \"news\")"
   ]
  },
  {
   "cell_type": "code",
   "execution_count": 1,
   "metadata": {},
   "outputs": [
    {
     "name": "stdout",
     "output_type": "stream",
     "text": [
      "File already exists:\n",
      "\t/Users/megankaye/Desktop/BeaverWorks/Work/Week2/DlibModels/dlib_models/dlib_face_recognition_resnet_model_v1.dat\n",
      "File already exists:\n",
      "\t/Users/megankaye/Desktop/BeaverWorks/Work/Week2/DlibModels/dlib_models/shape_predictor_68_face_landmarks.dat\n"
     ]
    }
   ],
   "source": [
    "from book_buddy_skill import find_genres"
   ]
  },
  {
   "cell_type": "code",
   "execution_count": 2,
   "metadata": {},
   "outputs": [
    {
     "name": "stdout",
     "output_type": "stream",
     "text": [
      "<img alt=\"saving…\" \n",
      "<img alt=\"saving…\" \n",
      "<img alt=\"saving…\" \n",
      "<img alt=\"All the B\n",
      "<img alt=\"31139576\"\n",
      "<img alt=\"All the B\n",
      "<img alt=\"All the B\n",
      "<img alt=\"Todas as \n",
      "<img alt=\"All the B\n",
      "<img alt=\"The Passi\n",
      "<img alt=\"A Lady's \n",
      "<img alt=\"The Littl\n",
      "<img alt=\"To Love a\n",
      "<img alt=\"DP by Mar\n",
      "<img alt=\"Fallen To\n",
      "<img alt=\"Blue Jean\n",
      "<img alt=\"Someone L\n",
      "<img alt=\"Keeping M\n",
      "<img alt=\"Whole Lat\n",
      "<img alt=\"Chelsea H\n",
      "<img alt=\"Jennifer \n",
      "<img alt=\"Suzanne L\n",
      "<img alt=\"Judy Coll\n",
      "<img alt=\"Jenny (Re\n",
      "<img alt=\"Amy\" src=\n",
      "<img alt=\"Barbara S\n",
      "<img alt=\"Karen\" sr\n",
      "<img alt=\"Laura Ras\n",
      "<img alt=\"Sarah Joi\n",
      "<img alt=\"Susan Pet\n",
      "<img alt=\"Laura Spi\n",
      "<img alt=\"Melissa\" \n",
      "<img alt=\"Kate\" src\n",
      "<img alt=\"Sue \" src\n",
      "<img alt=\"Lisa Mont\n",
      "<img alt=\"Princessd\n",
      "<img alt=\"Letty\" sr\n",
      "<img alt=\"Carol Boy\n",
      "<img alt=\"Nicole Ev\n",
      "<img alt=\"Andrea\" s\n",
      "<img alt=\"Ashley\" s\n",
      "<img alt=\"Donna Hin\n",
      "<img alt=\"Sharon Me\n",
      "<img alt=\"Deb\" src=\n",
      "<img alt=\"Cindy Roe\n",
      "<img alt=\"Dawn\" src\n",
      "<img alt=\"Michelegg\n",
      "<img alt=\"Dana\" src\n",
      "<img alt=\"Linda Zag\n",
      "<img alt=\"Everythin\n",
      "<img alt=\"Everythin\n",
      "<img alt=\"pin it bu\n",
      "<img alt=\"All the B\n",
      "<img alt=\"All the B\n",
      "<img alt=\"All the B\n",
      "<img alt=\"Login ani\n",
      "<img alt=\"Quantcast\n",
      "<img alt=\"\" height=\n",
      "ci\n"
     ]
    },
    {
     "data": {
      "text/plain": [
       "('All the Breaking Waves',\n",
       " '',\n",
       " 'https://www.goodreads.com/buy_buttons/12/follow?book_id=31139576&ref=x_gr_w_bb&tag=x_gr_w_bb-20')"
      ]
     },
     "execution_count": 2,
     "metadata": {},
     "output_type": "execute_result"
    }
   ],
   "source": [
    "find_genres(\"fantasy\")"
   ]
  }
 ],
 "metadata": {
  "kernelspec": {
   "display_name": "Python [conda root]",
   "language": "python",
   "name": "conda-root-py"
  },
  "language_info": {
   "codemirror_mode": {
    "name": "ipython",
    "version": 3
   },
   "file_extension": ".py",
   "mimetype": "text/x-python",
   "name": "python",
   "nbconvert_exporter": "python",
   "pygments_lexer": "ipython3",
   "version": "3.5.3"
  }
 },
 "nbformat": 4,
 "nbformat_minor": 2
}
