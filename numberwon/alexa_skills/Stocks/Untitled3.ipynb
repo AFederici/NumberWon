{
 "cells": [
  {
   "cell_type": "code",
   "execution_count": 2,
   "metadata": {
    "collapsed": true
   },
   "outputs": [],
   "source": [
    "import pickle\n",
    "from yahoo_finance import Share\n",
    "from pprint import pprint\n",
    "from pandas_datareader import data\n",
    "import matplotlib.pyplot as plt\n",
    "import pandas as pd\n",
    "import pickle\n",
    "import datetime as dt\n",
    "from scipy.fftpack import idct, dct\n",
    "import numpy as np\n",
    "import itertools\n",
    "from matplotlib.dates import DateFormatter, WeekdayLocator,DayLocator, MONDAY\n"
   ]
  },
  {
   "cell_type": "code",
   "execution_count": 26,
   "metadata": {
    "collapsed": true
   },
   "outputs": [],
   "source": [
    "y = pickle.load( open('tickers.pickle', \"rb\"))\n"
   ]
  },
  {
   "cell_type": "code",
   "execution_count": 28,
   "metadata": {
    "collapsed": true
   },
   "outputs": [],
   "source": [
    "close = pickle.load( open('sp500.pickle', \"rb\"))\n",
    "\n",
    "close.fillna(method = 'ffill', inplace = True)\n",
    "pickle.dump(close, open('sp500.pickle', \"wb\") )"
   ]
  },
  {
   "cell_type": "code",
   "execution_count": 30,
   "metadata": {
    "collapsed": true
   },
   "outputs": [],
   "source": [
    "mov_avg = {}\n",
    "for i in y:\n",
    "\n",
    "    l = []\n",
    "    l.append(np.round(close[i].rolling(window = 5, center = False).mean(), 2))\n",
    "    l.append(np.round(close[i].rolling(window = 10, center = False).mean(), 2))\n",
    "    l.append(np.round(close[i].rolling(window = 20, center = False).mean(), 2))\n",
    "    l.append(np.round(close[i].rolling(window = 50, center = False).mean(), 2))\n",
    "    l.append(np.round(close[i].rolling(window = 100, center = False).mean(), 2))\n",
    "    mov_avg[i] = l\n",
    "pickle.dump(mov_avg, open('moving_averages.pickle', \"wb\") )"
   ]
  },
  {
   "cell_type": "code",
   "execution_count": 35,
   "metadata": {
    "collapsed": true
   },
   "outputs": [],
   "source": [
    "cos_trans = {}\n",
    "for i in y:\n",
    "    data1 = close[i]\n",
    "    l = []\n",
    "    ckD =  dct(data1, norm = 'ortho')\n",
    "    ckD[round(.2 * len(ckD)):] = 0\n",
    "    smoothF = idct(ckD, norm = 'ortho')\n",
    "    l.append(smoothF) \n",
    "    ckD =  dct(data1, norm = 'ortho')\n",
    "    ckD[round(.1 * len(ckD)):] = 0\n",
    "    smoothF = idct(ckD, norm = 'ortho')\n",
    "    l.append(smoothF) \n",
    "    ckD =  dct(data1, norm = 'ortho')\n",
    "    ckD[round(.05 * len(ckD)):] = 0\n",
    "    smoothF = idct(ckD, norm = 'ortho')\n",
    "    l.append(smoothF) \n",
    "    ckD =  dct(data1, norm = 'ortho')\n",
    "    ckD[round(.02 * len(ckD)):] = 0\n",
    "    smoothF = idct(ckD, norm = 'ortho')\n",
    "    l.append(smoothF) \n",
    "    ckD =  dct(data1, norm = 'ortho')\n",
    "    ckD[round(.01 * len(ckD)):] = 0\n",
    "    smoothF = idct(ckD, norm = 'ortho')\n",
    "    l.append(smoothF) \n",
    "    cos_trans[i] = l\n",
    "pickle.dump(cos_trans, open('cos_trans.pickle', \"wb\") )"
   ]
  },
  {
   "cell_type": "code",
   "execution_count": 46,
   "metadata": {
    "collapsed": true
   },
   "outputs": [],
   "source": [
    "grad = {}\n",
    "grad2 = {}"
   ]
  },
  {
   "cell_type": "code",
   "execution_count": 55,
   "metadata": {},
   "outputs": [
    {
     "name": "stdout",
     "output_type": "stream",
     "text": [
      "<class 'numpy.ndarray'>\n"
     ]
    },
    {
     "ename": "IndexError",
     "evalue": "only integers, slices (`:`), ellipsis (`...`), numpy.newaxis (`None`) and integer or boolean arrays are valid indices",
     "output_type": "error",
     "traceback": [
      "\u001b[1;31m---------------------------------------------------------------------------\u001b[0m",
      "\u001b[1;31mIndexError\u001b[0m                                Traceback (most recent call last)",
      "\u001b[1;32m<ipython-input-55-0262c0f9436a>\u001b[0m in \u001b[0;36m<module>\u001b[1;34m()\u001b[0m\n\u001b[0;32m      9\u001b[0m         \u001b[0mm\u001b[0m\u001b[1;33m.\u001b[0m\u001b[0mappend\u001b[0m\u001b[1;33m(\u001b[0m\u001b[0mgrad2\u001b[0m\u001b[1;33m)\u001b[0m\u001b[1;33m\u001b[0m\u001b[0m\n\u001b[0;32m     10\u001b[0m     \u001b[0mprint\u001b[0m\u001b[1;33m(\u001b[0m\u001b[0mtype\u001b[0m\u001b[1;33m(\u001b[0m\u001b[0mgrad\u001b[0m\u001b[1;33m)\u001b[0m\u001b[1;33m)\u001b[0m\u001b[1;33m\u001b[0m\u001b[0m\n\u001b[1;32m---> 11\u001b[1;33m     \u001b[0mgrad\u001b[0m\u001b[1;33m[\u001b[0m\u001b[0mi\u001b[0m\u001b[1;33m]\u001b[0m \u001b[1;33m=\u001b[0m \u001b[0ml\u001b[0m\u001b[1;33m\u001b[0m\u001b[0m\n\u001b[0m\u001b[0;32m     12\u001b[0m     \u001b[0mgrad2\u001b[0m\u001b[1;33m[\u001b[0m\u001b[0mi\u001b[0m\u001b[1;33m]\u001b[0m \u001b[1;33m=\u001b[0m \u001b[0mm\u001b[0m\u001b[1;33m\u001b[0m\u001b[0m\n\u001b[0;32m     13\u001b[0m \u001b[0mpickle\u001b[0m\u001b[1;33m.\u001b[0m\u001b[0mdump\u001b[0m\u001b[1;33m(\u001b[0m\u001b[0mgrad\u001b[0m\u001b[1;33m,\u001b[0m \u001b[0mopen\u001b[0m\u001b[1;33m(\u001b[0m\u001b[1;34m'grads.pickle'\u001b[0m\u001b[1;33m,\u001b[0m \u001b[1;34m\"wb\"\u001b[0m\u001b[1;33m)\u001b[0m \u001b[1;33m)\u001b[0m\u001b[1;33m\u001b[0m\u001b[0m\n",
      "\u001b[1;31mIndexError\u001b[0m: only integers, slices (`:`), ellipsis (`...`), numpy.newaxis (`None`) and integer or boolean arrays are valid indices"
     ]
    }
   ],
   "source": [
    "for i in y:\n",
    "    l = []\n",
    "    m = []\n",
    "    stock = cos_trans[i]\n",
    "    for cos in range(len(stock)):\n",
    "        grad10 = np.gradient(np.asarray(stock[cos]))\n",
    "        l.append(grad)\n",
    "        grad20 = np.gradient(grad10)\n",
    "        m.append(grad2)\n",
    "    print(type(grad))\n",
    "    grad[i] = l\n",
    "    grad2[i] = m\n",
    "pickle.dump(grad, open('grads.pickle', \"wb\") )\n",
    "pickle.dump(grad2, open('2grads.pickle', \"wb\") )"
   ]
  },
  {
   "cell_type": "code",
   "execution_count": 8,
   "metadata": {},
   "outputs": [],
   "source": [
    "mov = pickle.load(open('moving_averages.pickle', \"rb\") )"
   ]
  },
  {
   "cell_type": "code",
   "execution_count": 26,
   "metadata": {},
   "outputs": [
    {
     "data": {
      "text/plain": [
       "-0.5700000000000216"
      ]
     },
     "execution_count": 26,
     "metadata": {},
     "output_type": "execute_result"
    }
   ],
   "source": [
    "mov['AAPL'][2][260] - mov['AAPL'][2][-1]"
   ]
  },
  {
   "cell_type": "code",
   "execution_count": 27,
   "metadata": {
    "collapsed": true
   },
   "outputs": [],
   "source": [
    "g = pickle.load(open('grads.pickle', \"rb\") )"
   ]
  },
  {
   "cell_type": "code",
   "execution_count": 39,
   "metadata": {},
   "outputs": [
    {
     "data": {
      "text/plain": [
       "0.50698139192813585"
      ]
     },
     "execution_count": 39,
     "metadata": {},
     "output_type": "execute_result"
    }
   ],
   "source": [
    "x = g['AAPL'][2]\n",
    "l = (x[-8], x[-4], x[-1])\n",
    "l[0]\n",
    "#x = (g[-8], g[-4], g[-1])"
   ]
  },
  {
   "cell_type": "code",
   "execution_count": null,
   "metadata": {
    "collapsed": true
   },
   "outputs": [],
   "source": []
  },
  {
   "cell_type": "code",
   "execution_count": null,
   "metadata": {
    "collapsed": true
   },
   "outputs": [],
   "source": []
  }
 ],
 "metadata": {
  "kernelspec": {
   "display_name": "Python 3",
   "language": "python",
   "name": "python3"
  },
  "language_info": {
   "codemirror_mode": {
    "name": "ipython",
    "version": 3
   },
   "file_extension": ".py",
   "mimetype": "text/x-python",
   "name": "python",
   "nbconvert_exporter": "python",
   "pygments_lexer": "ipython3",
   "version": "3.6.1"
  }
 },
 "nbformat": 4,
 "nbformat_minor": 2
}
