{
 "cells": [
  {
   "cell_type": "code",
   "execution_count": 1,
   "metadata": {
    "collapsed": false
   },
   "outputs": [
    {
     "name": "stdout",
     "output_type": "stream",
     "text": [
      "File already exists:\n",
      "\t/Users/megankaye/Desktop/BeaverWorks/Work/Week2/DlibModels/dlib_models/dlib_face_recognition_resnet_model_v1.dat\n",
      "File already exists:\n",
      "\t/Users/megankaye/Desktop/BeaverWorks/Work/Week2/DlibModels/dlib_models/shape_predictor_68_face_landmarks.dat\n"
     ]
    }
   ],
   "source": [
    "from FaceRec import Face_Recognition"
   ]
  },
  {
   "cell_type": "code",
   "execution_count": 3,
   "metadata": {
    "collapsed": true
   },
   "outputs": [],
   "source": [
    "from database import Database"
   ]
  },
  {
   "cell_type": "code",
   "execution_count": 4,
   "metadata": {
    "collapsed": true
   },
   "outputs": [],
   "source": [
    "f = Face_Recognition()"
   ]
  },
  {
   "cell_type": "code",
   "execution_count": 5,
   "metadata": {
    "collapsed": true
   },
   "outputs": [],
   "source": [
    "d = Database(\"goodfile.npy\")"
   ]
  },
  {
   "cell_type": "code",
   "execution_count": 6,
   "metadata": {
    "collapsed": false
   },
   "outputs": [
    {
     "name": "stdout",
     "output_type": "stream",
     "text": [
      "0.368553334808\n"
     ]
    },
    {
     "data": {
      "text/plain": [
       "['Megan Kaye']"
      ]
     },
     "execution_count": 6,
     "metadata": {},
     "output_type": "execute_result"
    }
   ],
   "source": [
    "f.name_faces_from_picture(d)"
   ]
  },
  {
   "cell_type": "code",
   "execution_count": null,
   "metadata": {
    "collapsed": true
   },
   "outputs": [],
   "source": [
    "d.save_obj(\"goodfile.npy\")"
   ]
  },
  {
   "cell_type": "code",
   "execution_count": 3,
   "metadata": {
    "collapsed": false
   },
   "outputs": [
    {
     "ename": "SyntaxError",
     "evalue": "invalid syntax (<ipython-input-3-9b47f48b73bd>, line 2)",
     "output_type": "error",
     "traceback": [
      "\u001b[0;36m  File \u001b[0;32m\"<ipython-input-3-9b47f48b73bd>\"\u001b[0;36m, line \u001b[0;32m2\u001b[0m\n\u001b[0;31m    import collect_rss http://feeds.reuters.com/reuters/lifestyle lifestyle.pickle\u001b[0m\n\u001b[0m                          ^\u001b[0m\n\u001b[0;31mSyntaxError\u001b[0m\u001b[0;31m:\u001b[0m invalid syntax\n"
     ]
    }
   ],
   "source": [
    "\n",
    "import collect_rss http://feeds.reuters.com/reuters/lifestyle lifestyle.pickle"
   ]
  },
  {
   "cell_type": "code",
   "execution_count": 8,
   "metadata": {
    "collapsed": false
   },
   "outputs": [
    {
     "ename": "OSError",
     "evalue": "[Errno 22] Invalid argument: 'C:/Users/User/Desktop/beaver/NumberWon/numberwon/alexa_skills/search/*.pickle'",
     "output_type": "error",
     "traceback": [
      "\u001b[0;31m---------------------------------------------------------------------------\u001b[0m",
      "\u001b[0;31mOSError\u001b[0m                                   Traceback (most recent call last)",
      "\u001b[0;32m<ipython-input-8-097f9b402d07>\u001b[0m in \u001b[0;36m<module>\u001b[0;34m()\u001b[0m\n\u001b[1;32m      1\u001b[0m \u001b[1;32mimport\u001b[0m \u001b[0mpickle\u001b[0m\u001b[1;33m\u001b[0m\u001b[0m\n\u001b[0;32m----> 2\u001b[0;31m \u001b[0mz\u001b[0m \u001b[1;33m=\u001b[0m \u001b[0mpickle\u001b[0m\u001b[1;33m.\u001b[0m\u001b[0mload\u001b[0m\u001b[1;33m(\u001b[0m\u001b[0mopen\u001b[0m\u001b[1;33m(\u001b[0m\u001b[1;34m\"C:/Users/User/Desktop/beaver/NumberWon/numberwon/alexa_skills/search/*.pickle\"\u001b[0m\u001b[1;33m,\u001b[0m \u001b[1;34m\"rb\"\u001b[0m\u001b[1;33m)\u001b[0m\u001b[1;33m)\u001b[0m\u001b[1;33m\u001b[0m\u001b[0m\n\u001b[0m",
      "\u001b[0;31mOSError\u001b[0m: [Errno 22] Invalid argument: 'C:/Users/User/Desktop/beaver/NumberWon/numberwon/alexa_skills/search/*.pickle'"
     ]
    }
   ],
   "source": [
    "import pickle\n",
    "z = pickle.load(open(\"C:/Users/User/Desktop/beaver/NumberWon/numberwon/alexa_skills/search/*.pickle\", \"rb\"))\n"
   ]
  },
  {
   "cell_type": "code",
   "execution_count": 9,
   "metadata": {
    "collapsed": false
   },
   "outputs": [
    {
     "ename": "OSError",
     "evalue": "[Errno 22] Invalid argument: 'C:/Users/User/Desktop/beaver/NumberWon/numberwon/alexa_skills/search/*.pickle'",
     "output_type": "error",
     "traceback": [
      "\u001b[0;31m---------------------------------------------------------------------------\u001b[0m",
      "\u001b[0;31mOSError\u001b[0m                                   Traceback (most recent call last)",
      "\u001b[0;32m<ipython-input-9-08ae526e29a6>\u001b[0m in \u001b[0;36m<module>\u001b[0;34m()\u001b[0m\n\u001b[0;32m----> 1\u001b[0;31m \u001b[1;32mwith\u001b[0m \u001b[0mopen\u001b[0m\u001b[1;33m(\u001b[0m\u001b[1;34m\"C:/Users/User/Desktop/beaver/NumberWon/numberwon/alexa_skills/search/*.pickle\"\u001b[0m\u001b[1;33m,\u001b[0m \u001b[1;34m\"rb\"\u001b[0m\u001b[1;33m)\u001b[0m \u001b[1;32mas\u001b[0m \u001b[0mf\u001b[0m\u001b[1;33m:\u001b[0m\u001b[1;33m\u001b[0m\u001b[0m\n\u001b[0m\u001b[1;32m      2\u001b[0m     \u001b[0mp\u001b[0m \u001b[1;33m=\u001b[0m \u001b[0mpickle\u001b[0m\u001b[1;33m.\u001b[0m\u001b[0mload\u001b[0m\u001b[1;33m(\u001b[0m\u001b[0mf\u001b[0m\u001b[1;33m)\u001b[0m\u001b[1;33m\u001b[0m\u001b[0m\n\u001b[1;32m      3\u001b[0m \u001b[1;33m\u001b[0m\u001b[0m\n",
      "\u001b[0;31mOSError\u001b[0m: [Errno 22] Invalid argument: 'C:/Users/User/Desktop/beaver/NumberWon/numberwon/alexa_skills/search/*.pickle'"
     ]
    }
   ],
   "source": [
    "with open(\"C:/Users/User/Desktop/beaver/NumberWon/numberwon/alexa_skills/search/*.pickle\", \"rb\") as f:\n",
    "    p = pickle.load(f)\n",
    "    "
   ]
  },
  {
   "cell_type": "code",
   "execution_count": 10,
   "metadata": {
    "collapsed": false
   },
   "outputs": [
    {
     "name": "stdout",
     "output_type": "stream",
     "text": [
      "/contact-gpsbasecamp.php\n",
      "/privacy-policy.php\n",
      "/terms-of-service.php\n",
      "/\n",
      "\t\t\t\tNational-Parks/map\n",
      "/National-Historic-Parks\n",
      "/National-Historic-Sites\n",
      "/National-Monuments\n",
      "/Other-NPS-Facilities\n",
      "national-parks/Acadia_National_Park\n",
      "national-parks/Arches_National_Park\n",
      "national-parks/Badlands_National_Park\n",
      "national-parks/Big_Bend_National_Park\n",
      "national-parks/Biscayne_National_Park\n",
      "national-parks/Black_Canyon_Of_The_Gunnison_National_Park\n",
      "national-parks/Bryce_Canyon_National_Park\n",
      "national-parks/Canyonlands_National_Park\n",
      "national-parks/Capitol_Reef_National_Park\n",
      "national-parks/Carlsbad_Caverns_National_Park\n",
      "national-parks/Channel_Islands_National_Park\n",
      "national-parks/Congaree_National_Park\n",
      "national-parks/Crater_Lake_National_Park\n",
      "national-parks/Cuyahoga_Valley_National_Park\n",
      "national-parks/Death_Valley_National_Park\n",
      "national-parks/Denali_National_Park_and_Preserve\n",
      "national-parks/Dry_Tortugas_National_Park\n",
      "national-parks/Everglades_National_Park\n",
      "national-parks/Gates_Of_The_Arctic_National_Park_and_Preserve\n",
      "national-parks/Glacier_Bay_National_Park_and_Preserve\n",
      "national-parks/Glacier_National_Park\n",
      "national-parks/Grand_Canyon_National_Park\n",
      "national-parks/Grand_Teton_National_Park\n",
      "national-parks/Great_Basin_National_Park\n",
      "national-parks/Great_Smoky_Mountains_National_Park\n",
      "national-parks/Guadalupe_Mountains_National_Park\n",
      "national-parks/Haleakala_National_Park\n",
      "national-parks/Hawaii_Volcanoes_National_Park\n",
      "national-parks/Hot_Springs_National_Park\n",
      "national-parks/Isle_Royale_National_Park\n",
      "national-parks/Joshua_Tree_National_Park\n",
      "national-parks/Katmai_National_Park_and_Preserve\n",
      "national-parks/Kenai_Fjords_National_Park\n",
      "national-parks/Kings_Mountain_National_Military_Park\n",
      "national-parks/Kobuk_Valley_National_Park\n",
      "national-parks/Lake_Clark_National_Park_and_Preserve\n",
      "national-parks/Lassen_Volcanic_National_Park\n",
      "national-parks/Mammoth_Cave_National_Park\n",
      "national-parks/Mesa_Verde_National_Park\n",
      "national-parks/Mount_Rainier_National_Park\n",
      "national-parks/National_Park_of_American_Samoa\n",
      "national-parks/National_Parks_of_New_York_Harbor\n",
      "national-parks/North_Cascades_National_Park\n",
      "national-parks/Olympic_National_Park\n",
      "national-parks/Petrified_Forest_National_Park\n",
      "national-parks/Redwood_National_and_State_Parks\n",
      "national-parks/Rocky_Mountain_National_Park\n",
      "national-parks/Saguaro_National_Park\n",
      "national-parks/Sequoia_and_Kings_Canyon_National_Parks\n",
      "national-parks/Shenandoah_National_Park\n",
      "national-parks/Theodore_Roosevelt_National_Park\n",
      "national-parks/Virgin_Islands_National_Park\n",
      "national-parks/Voyageurs_National_Park\n",
      "national-parks/Wind_Cave_National_Park\n",
      "national-parks/Wolf_Trap_National_Park_for_the_Performing_Arts\n",
      "national-parks/Wrangell_-_St_Elias_National_Park_and_Preserve\n",
      "national-parks/Yellowstone_National_Park\n",
      "national-parks/Yosemite_National_Park\n",
      "national-parks/Zion_National_Park\n",
      "http://www.gpsbasecamp.com\n",
      "http://www.gpsbasecamp.com\n",
      "/upload-gps-file.php\n",
      "/download-gps-file.php\n",
      "/national-parks\n",
      "/state-parks\n",
      "\n",
      "\n",
      "/mp3/index.php\n"
     ]
    },
    {
     "name": "stderr",
     "output_type": "stream",
     "text": [
      "C:\\ProgramData\\Anaconda3\\lib\\site-packages\\bs4\\__init__.py:181: UserWarning: No parser was explicitly specified, so I'm using the best available HTML parser for this system (\"lxml\"). This usually isn't a problem, but if you run this code on another system, or in a different virtual environment, it may use a different parser and behave differently.\n",
      "\n",
      "The code that caused this warning is on line 193 of the file C:\\ProgramData\\Anaconda3\\lib\\runpy.py. To get rid of this warning, change code that looks like this:\n",
      "\n",
      " BeautifulSoup([your markup])\n",
      "\n",
      "to this:\n",
      "\n",
      " BeautifulSoup([your markup], \"lxml\")\n",
      "\n",
      "  markup_type=markup_type))\n"
     ]
    }
   ],
   "source": [
    "from bs4 import BeautifulSoup\n",
    "import urllib.request\n",
    "\n",
    "resp = urllib.request.urlopen(\"http://www.gpsbasecamp.com/national-parks\")\n",
    "soup = BeautifulSoup(resp, from_encoding=resp.info().get_param('charset'))\n",
    "\n",
    "for link in soup.find_all('a', href=True):\n",
    "    print(link['href'])"
   ]
  },
  {
   "cell_type": "code",
   "execution_count": 11,
   "metadata": {
    "collapsed": false
   },
   "outputs": [
    {
     "name": "stderr",
     "output_type": "stream",
     "text": [
      "C:\\ProgramData\\Anaconda3\\lib\\site-packages\\bs4\\__init__.py:181: UserWarning: No parser was explicitly specified, so I'm using the best available HTML parser for this system (\"lxml\"). This usually isn't a problem, but if you run this code on another system, or in a different virtual environment, it may use a different parser and behave differently.\n",
      "\n",
      "The code that caused this warning is on line 193 of the file C:\\ProgramData\\Anaconda3\\lib\\runpy.py. To get rid of this warning, change code that looks like this:\n",
      "\n",
      " BeautifulSoup([your markup])\n",
      "\n",
      "to this:\n",
      "\n",
      " BeautifulSoup([your markup], \"lxml\")\n",
      "\n",
      "  markup_type=markup_type))\n"
     ]
    },
    {
     "name": "stdout",
     "output_type": "stream",
     "text": [
      "/\n",
      "/\n",
      "/home\n",
      "/finance\n",
      "/finance\n",
      "/legal\n",
      "/finance/deals\n",
      "/subjects/aerospace-and-defense\n",
      "/subjects/banks\n",
      "/subjects/autos\n",
      "/finance/summits\n",
      "/news/subjects/ADventures\n",
      "/data-dive\n",
      "/finance/markets\n",
      "/finance/markets\n",
      "/finance/markets/us\n",
      "/finance/markets/europe\n",
      "/finance/markets/asia\n",
      "/finance/global-market-data\n",
      "/finance/markets/indices\n",
      "/finance/bonds\n",
      "/finance/currencies\n",
      "/finance/commodities\n",
      "/finance/futures\n",
      "/finance/funds\n",
      "/finance/EarningsUS\n",
      "/finance/markets/dividends\n",
      "/news/world\n",
      "/news/world\n",
      "/news/us\n",
      "/subjects/specialReports\n",
      "//www.reuters.com/investigates/\n",
      "/subjects/euro-zone\n",
      "/subjects/middle-east\n",
      "/places/china\n",
      "/places/japan\n",
      "/places/mexico\n",
      "/places/brazil\n",
      "/places/africa\n",
      "/places/russia\n",
      "/places/india\n",
      "/politics\n",
      "/politics\n",
      "http://polling.reuters.com\n",
      "http://live.reuters.com/Event/Live_US_Politics\n",
      "/subjects/supreme-court\n",
      "/news/technology\n",
      "/news/technology\n",
      "/news/science\n",
      "/bizfinance/technology/Top100Innovators\n",
      "/news/media\n",
      "/energy-environment\n",
      "/innovation\n",
      "/commentary\n",
      "/commentary\n",
      "/tools/podcasts/\n",
      "/breakingviews\n",
      "/breakingviews\n",
      "/video/breakingviews\n",
      "/finance/personal-finance\n",
      "/finance/personal-finance\n",
      "/finance/personal-finance/retirement\n",
      "/subjects/us-lipper-awards\n",
      "/finance/personal-finance/analyst-research\n",
      "http://stockscreener.us.reuters.com/Stock/US/Index?quickscreen=gaarp\n",
      "http://funds.us.reuters.com/US/screener/screener.asp\n",
      "/news/lifestyle\n",
      "/news/health\n",
      "/news/sports\n",
      "/news/entertainment/arts\n",
      "/news/entertainment\n",
      "/news/oddlyEnough\n",
      "/news/pictures\n",
      "/news/pictures\n",
      "http://widerimage.reuters.com\n",
      "http://widerimage.reuters.com/photographer\n",
      "/focus-360/\n",
      "/video\n",
      "//af.reuters.com\n",
      "//lta.reuters.com\n",
      "//ara.reuters.com\n",
      "//ar.reuters.com\n",
      "//br.reuters.com\n",
      "//ca.reuters.com\n",
      "//cn.reuters.com\n",
      "//de.reuters.com\n",
      "//es.reuters.com\n",
      "//fr.reuters.com\n",
      "//in.reuters.com\n",
      "//it.reuters.com\n",
      "//jp.reuters.com\n",
      "//mx.reuters.com\n",
      "//ru.reuters.com\n",
      "//uk.reuters.com\n",
      "//www.reuters.com\n",
      "http://feeds.reuters.com/news/artsculture\n",
      "http://add.my.yahoo.com/rss?url=http://feeds.reuters.com/news/artsculture\n",
      "http://feeds.reuters.com/reuters/businessNews\n",
      "http://add.my.yahoo.com/rss?url=http://feeds.reuters.com/reuters/businessNews\n",
      "http://feeds.reuters.com/reuters/companyNews\n",
      "http://add.my.yahoo.com/rss?url=http://feeds.reuters.com/reuters/companyNews\n",
      "http://feeds.reuters.com/reuters/entertainment\n",
      "http://add.my.yahoo.com/rss?url=http://feeds.reuters.com/reuters/entertainment\n",
      "http://feeds.reuters.com/reuters/environment\n",
      "http://add.my.yahoo.com/rss?url=http://feeds.reuters.com/reuters/environment\n",
      "http://feeds.reuters.com/reuters/healthNews\n",
      "http://add.my.yahoo.com/rss?url=http://feeds.reuters.com/reuters/healthNews\n",
      "http://feeds.reuters.com/reuters/lifestyle\n",
      "http://add.my.yahoo.com/rss?url=http://feeds.reuters.com/reuters/lifestyle\n",
      "http://feeds.reuters.com/news/wealth\n",
      "http://add.my.yahoo.com/rss?url=http://feeds.reuters.com/news/wealth\n",
      "http://feeds.reuters.com/reuters/MostRead\n",
      "http://add.my.yahoo.com/rss?url=http://feeds.reuters.com/reuters/MostRead\n",
      "http://feeds.reuters.com/reuters/oddlyEnoughNews\n",
      "http://add.my.yahoo.com/rss?url=http://feeds.reuters.com/reuters/oddlyEnoughNews\n",
      "http://feeds.reuters.com/ReutersPictures\n",
      "http://add.my.yahoo.com/rss?url=http://feeds.reuters.com/ReutersPictures\n",
      "http://feeds.reuters.com/reuters/peopleNews\n",
      "http://add.my.yahoo.com/rss?url=http://feeds.reuters.com/reuters/healthNews\n",
      "http://feeds.reuters.com/Reuters/PoliticsNews\n",
      "http://add.my.yahoo.com/rss?url=http://feeds.reuters.com/Reuters/PoliticsNews\n",
      "http://feeds.reuters.com/reuters/scienceNews\n",
      "http://add.my.yahoo.com/rss?url=http://feeds.reuters.com/reuters/scienceNews\n",
      "http://feeds.reuters.com/reuters/sportsNews\n",
      "http://add.my.yahoo.com/rss?url=http://feeds.reuters.com/reuters/sportsNews\n",
      "http://feeds.reuters.com/reuters/technologyNews\n",
      "http://add.my.yahoo.com/rss?url=http://feeds.reuters.com/reuters/technologyNews\n",
      "http://feeds.reuters.com/reuters/topNews\n",
      "http://add.my.yahoo.com/rss?url=http://feeds.reuters.com/reuters/topNews\n",
      "http://feeds.reuters.com/Reuters/domesticNews\n",
      "http://add.my.yahoo.com/rss?url=http://feeds.reuters.com/Reuters/domesticNews\n",
      "http://feeds.reuters.com/Reuters/worldNews\n",
      "http://add.my.yahoo.com/rss?url=http://feeds.reuters.com/Reuters/worldNews\n",
      "http://feeds.reuters.com/reuters/USVideoBreakingviews\n",
      "http://add.my.yahoo.com/rss?url=http://feeds.reuters.com/reuters/USVideoBreakingviews\n",
      "http://feeds.reuters.com/reuters/USVideoBusiness\n",
      "http://add.my.yahoo.com/rss?url=http://feeds.reuters.com/reuters/USVideoBusiness\n",
      "http://feeds.reuters.com/reuters/USVideoBusinessTravel\n",
      "http://add.my.yahoo.com/rss?url=http://feeds.reuters.com/reuters/USVideoBusinessTravel\n",
      "http://feeds.reuters.com/reuters/USVideoChrystiaFreeland\n",
      "http://add.my.yahoo.com/rss?url=http://feeds.reuters.com/reuters/USVideoChrystiaFreeland\n",
      "http://feeds.reuters.com/reuters/USVideoEntertainment\n",
      "http://add.my.yahoo.com/rss?url=http://feeds.reuters.com/reuters/USVideoEntertainment\n",
      "http://feeds.reuters.com/reuters/USVideoEnvironment\n",
      "http://add.my.yahoo.com/rss?url=http://feeds.reuters.com/reuters/USVideoEnvironment\n",
      "http://feeds.reuters.com/reuters/USVideoFelixSalmon\n",
      "http://add.my.yahoo.com/rss?url=http://feeds.reuters.com/reuters/USVideoFelixSalmon\n",
      "http://feeds.reuters.com/reuters/USVideoGigaom\n",
      "http://add.my.yahoo.com/rss?url=http://feeds.reuters.com/reuters/USVideoGigaom\n",
      "http://feeds.reuters.com/reuters/USVideoLifestyle\n",
      "http://add.my.yahoo.com/rss?url=http://feeds.reuters.com/reuters/USVideoLifestyle\n",
      "http://feeds.reuters.com/reuters/USVideoMostWatched\n",
      "http://add.my.yahoo.com/rss?url=http://feeds.reuters.com/reuters/USVideoMostWatched\n",
      "http://feeds.reuters.com/reuters/USVideoLatest\n",
      "http://add.my.yahoo.com/rss?url=http://feeds.reuters.com/reuters/USVideoLatest\n",
      "http://feeds.reuters.com/reuters/USVideoNewsmakers\n",
      "http://add.my.yahoo.com/rss?url=http://feeds.reuters.com/reuters/USVideoNewsmakers\n",
      "http://feeds.reuters.com/reuters/USVideoOddlyEnough\n",
      "http://add.my.yahoo.com/rss?url=http://feeds.reuters.com/reuters/USVideoOddlyEnough\n",
      "http://feeds.reuters.com/reuters/USVideoPersonalFinance\n",
      "http://add.my.yahoo.com/rss?url=http://feeds.reuters.com/reuters/USVideoPersonalFinance\n",
      "http://feeds.reuters.com/reuters/USVideoPolitics\n",
      "http://add.my.yahoo.com/rss?url=http://feeds.reuters.com/reuters/USVideoPolitics\n",
      "http://feeds.reuters.com/reuters/USVideoRoughCuts\n",
      "http://add.my.yahoo.com/rss?url=http://feeds.reuters.com/reuters/USVideoRoughCuts\n",
      "http://feeds.reuters.com/reuters/USVideoSmallBusiness\n",
      "http://add.my.yahoo.com/rss?url=http://feeds.reuters.com/reuters/USVideoSmallBusiness\n",
      "http://feeds.reuters.com/reuters/USVideoTechnology\n",
      "http://add.my.yahoo.com/rss?url=http://feeds.reuters.com/reuters/USVideoTechnology\n",
      "http://feeds.reuters.com/reuters/USVideoTopNews\n",
      "http://add.my.yahoo.com/rss?url=http://feeds.reuters.com/reuters/USVideoTopNews\n",
      "http://feeds.reuters.com/reuters/USVideoWorldNews\n",
      "http://add.my.yahoo.com/rss?url=http://feeds.reuters.com/reuters/USVideoWorldNews\n",
      "http://en.wikipedia.org/wiki/News_aggregator\n",
      "http://en.wikipedia.org/wiki/News_aggregator\n",
      "http://agency.reuters.com/\n",
      "//www.twitter.com/reuters\n",
      "//www.facebook.com/Reuters\n",
      "//www.reuters.com/tools/rss\n",
      " //instagram.com/reuters/\n",
      "//www.youtube.com/user/ReutersVideo\n",
      "//www.linkedin.com/company/thomson-reuters/1400\n",
      "//www.reuters.com/tools/rss\n",
      "//newslink.reuters.com/join/subscribe\n",
      "/tools/podcasts\n",
      "/tools/mobile\n",
      "//plus.reuters.com/en.html \n",
      "//agency.reuters.com\n",
      "//agency.reuters.com/en/platforms-delivery/reuters-brand-attribution-guidelines.html\n",
      "//thomsonreuters.com/en/careers.html\n",
      "//thomsonreuters.com/\n",
      "//financial.thomsonreuters.com/en/products/tools-applications/trading-investment-tools/eikon-trading-software.html\n",
      "//financial.thomsonreuters.com/en/products/infrastructure/trading-infrastructure/elektron-enterprise-data-management.html\n",
      "//risk.thomsonreuters.com/products/world-check\n",
      "//legalsolutions.thomsonreuters.com/law-products/westlaw-legal-research/\n",
      "//tax.thomsonreuters.com/products/brands/onesource/\n",
      "//tax.thomsonreuters.com/products/brands/checkpoint/\n",
      "/info/disclaimer\n",
      "//reuters.zendesk.com/\n",
      "https://reuters.zendesk.com/anonymous_requests/new\n",
      "/advertising-guidelines\n",
      "//info.evidon.com/pub_info/285\n",
      "https://www.thomsonreuters.com/en/privacy-statement.html\n",
      "https://www.thomsonreuters.com/en/privacy-statement.html\n"
     ]
    }
   ],
   "source": [
    "from bs4 import BeautifulSoup\n",
    "import urllib.request\n",
    "\n",
    "resp = urllib.request.urlopen(\"https://www.reuters.com/tools/rss\")\n",
    "soup = BeautifulSoup(resp, from_encoding=resp.info().get_param('charset'))\n",
    "\n",
    "for link in soup.find_all('a', href=True):\n",
    "    link.find_all('a',  href=True)[0][\"href\"]"
   ]
  },
  {
   "cell_type": "code",
   "execution_count": 65,
   "metadata": {
    "collapsed": false
   },
   "outputs": [
    {
     "name": "stdout",
     "output_type": "stream",
     "text": [
      "[<td class=\"xmlLink\"><a href=\"http://feeds.reuters.com/news/artsculture\">Arts</a></td>, <td class=\"xmlLink\"><a href=\"http://feeds.reuters.com/reuters/businessNews\">Business</a></td>, <td class=\"xmlLink\"><a href=\"http://feeds.reuters.com/reuters/companyNews\">Company News</a></td>, <td class=\"xmlLink\"><a href=\"http://feeds.reuters.com/reuters/entertainment\">Entertainment</a></td>, <td class=\"xmlLink\"><a href=\"http://feeds.reuters.com/reuters/environment\">Environment</a></td>, <td class=\"xmlLink\"><a href=\"http://feeds.reuters.com/reuters/healthNews\">Health News</a></td>, <td class=\"xmlLink\"><a href=\"http://feeds.reuters.com/reuters/lifestyle\">Lifestyle</a></td>, <td class=\"xmlLink\"><a href=\"http://feeds.reuters.com/news/wealth\">Money</a></td>, <td class=\"xmlLink\"><a href=\"http://feeds.reuters.com/reuters/MostRead\">Most Read Articles</a></td>, <td class=\"xmlLink\"><a href=\"http://feeds.reuters.com/reuters/oddlyEnoughNews\">Oddly Enough</a></td>, <td class=\"xmlLink\"><a href=\"http://feeds.reuters.com/ReutersPictures\">Pictures</a></td>, <td class=\"xmlLink\"><a href=\"http://feeds.reuters.com/reuters/peopleNews\">People</a></td>, <td class=\"xmlLink\"><a href=\"http://feeds.reuters.com/Reuters/PoliticsNews\">Politics</a></td>, <td class=\"xmlLink\"><a href=\"http://feeds.reuters.com/reuters/scienceNews\">Science</a></td>, <td class=\"xmlLink\"><a href=\"http://feeds.reuters.com/reuters/sportsNews\">Sports</a></td>, <td class=\"xmlLink\"><a href=\"http://feeds.reuters.com/reuters/technologyNews\">Technology</a></td>, <td class=\"xmlLink\"><a href=\"http://feeds.reuters.com/reuters/topNews\">Top News</a></td>, <td class=\"xmlLink\"><a href=\"http://feeds.reuters.com/Reuters/domesticNews\">US News</a></td>, <td class=\"xmlLink\"><a href=\"http://feeds.reuters.com/Reuters/worldNews\">World</a></td>, <td class=\"xmlLink\"><a href=\"http://feeds.reuters.com/reuters/USVideoBreakingviews\">Breakingviews Video</a></td>, <td class=\"xmlLink\"><a href=\"http://feeds.reuters.com/reuters/USVideoBusiness\">Business Video</a></td>, <td class=\"xmlLink\"><a href=\"http://feeds.reuters.com/reuters/USVideoBusinessTravel\">Business Travel Video</a></td>, <td class=\"xmlLink\"><a href=\"http://feeds.reuters.com/reuters/USVideoChrystiaFreeland\">Chrystia Freeland Video</a></td>, <td class=\"xmlLink\"><a href=\"http://feeds.reuters.com/reuters/USVideoEntertainment\">Entertainment Video</a></td>, <td class=\"xmlLink\"><a href=\"http://feeds.reuters.com/reuters/USVideoEnvironment\">Environment Video</a></td>, <td class=\"xmlLink\"><a href=\"http://feeds.reuters.com/reuters/USVideoFelixSalmon\">Felix Salmon Video</a></td>, <td class=\"xmlLink\"><a href=\"http://feeds.reuters.com/reuters/USVideoGigaom\">GigaOm Video</a></td>, <td class=\"xmlLink\"><a href=\"http://feeds.reuters.com/reuters/USVideoLifestyle\">Lifestyle Video</a></td>, <td class=\"xmlLink\"><a href=\"http://feeds.reuters.com/reuters/USVideoMostWatched\">Most Watched Video</a></td>, <td class=\"xmlLink\"><a href=\"http://feeds.reuters.com/reuters/USVideoLatest\">Most Recent Video</a></td>, <td class=\"xmlLink\"><a href=\"http://feeds.reuters.com/reuters/USVideoNewsmakers\">Newsmakers</a></td>, <td class=\"xmlLink\"><a href=\"http://feeds.reuters.com/reuters/USVideoOddlyEnough\">Oddly Enough Video</a></td>, <td class=\"xmlLink\"><a href=\"http://feeds.reuters.com/reuters/USVideoPersonalFinance\">Personal Finance</a></td>, <td class=\"xmlLink\"><a href=\"http://feeds.reuters.com/reuters/USVideoPolitics\">Politics Video</a></td>, <td class=\"xmlLink\"><a href=\"http://feeds.reuters.com/reuters/USVideoRoughCuts\">Rough Cuts</a></td>, <td class=\"xmlLink\"><a href=\"http://feeds.reuters.com/reuters/USVideoSmallBusiness\">Small Business</a></td>, <td class=\"xmlLink\"><a href=\"http://feeds.reuters.com/reuters/USVideoTechnology\">Technology Video</a></td>, <td class=\"xmlLink\"><a href=\"http://feeds.reuters.com/reuters/USVideoTopNews\">Top News Video</a></td>, <td class=\"xmlLink\"><a href=\"http://feeds.reuters.com/reuters/USVideoWorldNews\">World News</a></td>]\n",
      "<td class=\"xmlLink\"><a href=\"http://feeds.reuters.com/news/artsculture\">Arts</a></td>\n",
      "None\n",
      "<td class=\"xmlLink\"><a href=\"http://feeds.reuters.com/reuters/businessNews\">Business</a></td>\n",
      "None\n",
      "<td class=\"xmlLink\"><a href=\"http://feeds.reuters.com/reuters/companyNews\">Company News</a></td>\n",
      "None\n",
      "<td class=\"xmlLink\"><a href=\"http://feeds.reuters.com/reuters/entertainment\">Entertainment</a></td>\n",
      "None\n",
      "<td class=\"xmlLink\"><a href=\"http://feeds.reuters.com/reuters/environment\">Environment</a></td>\n",
      "None\n",
      "<td class=\"xmlLink\"><a href=\"http://feeds.reuters.com/reuters/healthNews\">Health News</a></td>\n",
      "None\n",
      "<td class=\"xmlLink\"><a href=\"http://feeds.reuters.com/reuters/lifestyle\">Lifestyle</a></td>\n",
      "None\n",
      "<td class=\"xmlLink\"><a href=\"http://feeds.reuters.com/news/wealth\">Money</a></td>\n",
      "None\n",
      "<td class=\"xmlLink\"><a href=\"http://feeds.reuters.com/reuters/MostRead\">Most Read Articles</a></td>\n",
      "None\n",
      "<td class=\"xmlLink\"><a href=\"http://feeds.reuters.com/reuters/oddlyEnoughNews\">Oddly Enough</a></td>\n",
      "None\n",
      "<td class=\"xmlLink\"><a href=\"http://feeds.reuters.com/ReutersPictures\">Pictures</a></td>\n",
      "None\n",
      "<td class=\"xmlLink\"><a href=\"http://feeds.reuters.com/reuters/peopleNews\">People</a></td>\n",
      "None\n",
      "<td class=\"xmlLink\"><a href=\"http://feeds.reuters.com/Reuters/PoliticsNews\">Politics</a></td>\n",
      "None\n",
      "<td class=\"xmlLink\"><a href=\"http://feeds.reuters.com/reuters/scienceNews\">Science</a></td>\n",
      "None\n",
      "<td class=\"xmlLink\"><a href=\"http://feeds.reuters.com/reuters/sportsNews\">Sports</a></td>\n",
      "None\n",
      "<td class=\"xmlLink\"><a href=\"http://feeds.reuters.com/reuters/technologyNews\">Technology</a></td>\n",
      "None\n",
      "<td class=\"xmlLink\"><a href=\"http://feeds.reuters.com/reuters/topNews\">Top News</a></td>\n",
      "None\n",
      "<td class=\"xmlLink\"><a href=\"http://feeds.reuters.com/Reuters/domesticNews\">US News</a></td>\n",
      "None\n",
      "<td class=\"xmlLink\"><a href=\"http://feeds.reuters.com/Reuters/worldNews\">World</a></td>\n",
      "None\n",
      "<td class=\"xmlLink\"><a href=\"http://feeds.reuters.com/reuters/USVideoBreakingviews\">Breakingviews Video</a></td>\n",
      "None\n",
      "<td class=\"xmlLink\"><a href=\"http://feeds.reuters.com/reuters/USVideoBusiness\">Business Video</a></td>\n",
      "None\n",
      "<td class=\"xmlLink\"><a href=\"http://feeds.reuters.com/reuters/USVideoBusinessTravel\">Business Travel Video</a></td>\n",
      "None\n",
      "<td class=\"xmlLink\"><a href=\"http://feeds.reuters.com/reuters/USVideoChrystiaFreeland\">Chrystia Freeland Video</a></td>\n",
      "None\n",
      "<td class=\"xmlLink\"><a href=\"http://feeds.reuters.com/reuters/USVideoEntertainment\">Entertainment Video</a></td>\n",
      "None\n",
      "<td class=\"xmlLink\"><a href=\"http://feeds.reuters.com/reuters/USVideoEnvironment\">Environment Video</a></td>\n",
      "None\n",
      "<td class=\"xmlLink\"><a href=\"http://feeds.reuters.com/reuters/USVideoFelixSalmon\">Felix Salmon Video</a></td>\n",
      "None\n",
      "<td class=\"xmlLink\"><a href=\"http://feeds.reuters.com/reuters/USVideoGigaom\">GigaOm Video</a></td>\n",
      "None\n",
      "<td class=\"xmlLink\"><a href=\"http://feeds.reuters.com/reuters/USVideoLifestyle\">Lifestyle Video</a></td>\n",
      "None\n",
      "<td class=\"xmlLink\"><a href=\"http://feeds.reuters.com/reuters/USVideoMostWatched\">Most Watched Video</a></td>\n",
      "None\n",
      "<td class=\"xmlLink\"><a href=\"http://feeds.reuters.com/reuters/USVideoLatest\">Most Recent Video</a></td>\n",
      "None\n",
      "<td class=\"xmlLink\"><a href=\"http://feeds.reuters.com/reuters/USVideoNewsmakers\">Newsmakers</a></td>\n",
      "None\n",
      "<td class=\"xmlLink\"><a href=\"http://feeds.reuters.com/reuters/USVideoOddlyEnough\">Oddly Enough Video</a></td>\n",
      "None\n",
      "<td class=\"xmlLink\"><a href=\"http://feeds.reuters.com/reuters/USVideoPersonalFinance\">Personal Finance</a></td>\n",
      "None\n",
      "<td class=\"xmlLink\"><a href=\"http://feeds.reuters.com/reuters/USVideoPolitics\">Politics Video</a></td>\n",
      "None\n",
      "<td class=\"xmlLink\"><a href=\"http://feeds.reuters.com/reuters/USVideoRoughCuts\">Rough Cuts</a></td>\n",
      "None\n",
      "<td class=\"xmlLink\"><a href=\"http://feeds.reuters.com/reuters/USVideoSmallBusiness\">Small Business</a></td>\n",
      "None\n",
      "<td class=\"xmlLink\"><a href=\"http://feeds.reuters.com/reuters/USVideoTechnology\">Technology Video</a></td>\n",
      "None\n",
      "<td class=\"xmlLink\"><a href=\"http://feeds.reuters.com/reuters/USVideoTopNews\">Top News Video</a></td>\n",
      "None\n",
      "<td class=\"xmlLink\"><a href=\"http://feeds.reuters.com/reuters/USVideoWorldNews\">World News</a></td>\n",
      "None\n"
     ]
    }
   ],
   "source": [
    "#import urllib3\n",
    "from bs4 import BeautifulSoup\n",
    "import urllib.request\n",
    "#import re\n",
    "\n",
    "#connect to a URL\n",
    "\n",
    "resp = urllib.request.urlopen(\"https://www.reuters.com/tools/rss\")\n",
    "soup = BeautifulSoup(response.data, 'html.parser')\n",
    "#print(soup)\n",
    "#print(soup.find_all(\"xmlLink\"))\n",
    "#soup.td[\"xmlLink\"]\n",
    "#print(soup)\n",
    "#soup.find(class=\"xmlLink\")\n",
    "\n",
    "# #read html code\n",
    "# html = website.read()\n",
    "\n",
    "# #use re.findall to get all the links\n",
    "#links = soup.findall(re.compile(\"((http|ftp)s?://.*?)\"))\n",
    "#z = soup.find_all('td')\n",
    "print(soup.find_all('td', 'xmlLink'))\n",
    "\n",
    "from bs4 import BeautifulSoup\n",
    "import urllib.request\n",
    "\n",
    "resp = urllib.request.urlopen(\"https://www.reuters.com/tools/rss\")\n",
    "soup = BeautifulSoup(response.data, 'html.parser')\n",
    "\n",
    "for link in soup.find_all('td', 'xmlLink'):\n",
    "    for link in soup.find_all('a', href=True):\n",
    "    link.find_all('a',  href=True)[0][\"href\"]\n",
    "#z = soup.td\n",
    "#print(z)"
   ]
  },
  {
   "cell_type": "code",
   "execution_count": 73,
   "metadata": {
    "collapsed": false
   },
   "outputs": [
    {
     "data": {
      "text/plain": [
       "'http://feeds.reuters.com/reuters/USVideoWorldNews'"
      ]
     },
     "execution_count": 73,
     "metadata": {},
     "output_type": "execute_result"
    }
   ],
   "source": [
    "# link in soup.find_all('td', 'xmlLink'):\n",
    "#     print(link)\n",
    "link.find_all('a',  href=True)[0][\"href\"]\n",
    "#link."
   ]
  },
  {
   "cell_type": "code",
   "execution_count": null,
   "metadata": {
    "collapsed": true
   },
   "outputs": [],
   "source": []
  }
 ],
 "metadata": {
  "kernelspec": {
   "display_name": "Python 3",
   "language": "python",
   "name": "python3"
  },
  "language_info": {
   "codemirror_mode": {
    "name": "ipython",
    "version": 3
   },
   "file_extension": ".py",
   "mimetype": "text/x-python",
   "name": "python",
   "nbconvert_exporter": "python",
   "pygments_lexer": "ipython3",
   "version": "3.6.0"
  }
 },
 "nbformat": 4,
 "nbformat_minor": 2
}
