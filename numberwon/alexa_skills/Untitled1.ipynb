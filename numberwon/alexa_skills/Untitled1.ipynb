{
 "cells": [
  {
   "cell_type": "code",
   "execution_count": 1,
   "metadata": {
    "collapsed": true
   },
   "outputs": [],
   "source": [
    "import time"
   ]
  },
  {
   "cell_type": "code",
   "execution_count": 2,
   "metadata": {
    "collapsed": false,
    "scrolled": true
   },
   "outputs": [
    {
     "name": "stdout",
     "output_type": "stream",
     "text": [
      "0.33940744400024414\n"
     ]
    }
   ],
   "source": [
    "t1 = time.time()\n",
    "import sys\n",
    "sys.path.insert(0, \"C:/Users/User/Desktop/beaver/NumberWon/numberwon/alexa_skills/profiles/Profiles\")\n",
    "from Profile import Profile\n",
    "from UserDatabase import UserDatabase\n",
    "\n",
    "sys.path.insert(0, \"C:/Users/User/Desktop/beaver/NumberWon/numberwon/alexa_skills\")\n",
    "from fanfiction import Fanfiction\n",
    "\n",
    "f = Fanfiction()\n",
    "term = \"hunger games\"\n",
    "t2 = time.time()\n",
    "\n",
    "print(t2-t1)\n"
   ]
  },
  {
   "cell_type": "code",
   "execution_count": 3,
   "metadata": {
    "collapsed": false
   },
   "outputs": [
    {
     "name": "stdout",
     "output_type": "stream",
     "text": [
      "16.25468635559082\n"
     ]
    }
   ],
   "source": [
    "t3 = time.time()\n",
    "text = f.find_fanfiction(term)\n",
    "\n",
    "# for key, val in text.items():\n",
    "#     a = open(term + '_test.txt', 'w')\n",
    "#     a.write(val)\n",
    "#     a.close()\n",
    "t4 = time.time()\n",
    "print(t4-t3)"
   ]
  },
  {
   "cell_type": "code",
   "execution_count": 7,
   "metadata": {
    "collapsed": false,
    "scrolled": false
   },
   "outputs": [
    {
     "name": "stdout",
     "output_type": "stream",
     "text": [
      "What?\n",
      "\n",
      "Did I really just hear…?\n",
      "\n",
      "Doris does the honors of turning on the television. \"Ooh, this is so\n",
      "exciting!\" she exclaims.\n",
      "\n",
      "Please. Put her in there with me _now._ Then we'll discover if she still think\n",
      "it's exciting.\n",
      "\n",
      "He looks my way, and I offer him a reminder of how cruel our country is.\n",
      "“Brutus… even if we got to Odysseus interrupts, \"is that, though you've seen\n",
      "what they can do, they might hurt you. Let me lead instead...please?\"\n",
      "\n",
      "\"Let's give it a try.\"\n",
      "\n",
      "\"Please, don't!\" she screams.\n",
      "\n",
      "I raise the vial and say, \"Here's to the people of District One; and\n",
      "understandably, they got our tears flowing,” he says. “So, I have to ask: How\n",
      "do _you_ feel about being a tribute for a second time?” The question’s been on\n",
      "my tongue for a while.\n",
      "\n",
      "He cocks his head, as if the answer’s obvious. “Oh, come on. Sparing Trent was\n",
      "just part of it. You know who. I’ll give you one hint, Golding: I’m staring at\n",
      "her.”\n",
      "\n",
      "She just made four deadly enemies.\n",
      "\n",
      "The only bright spot about being a tribute again? I get to show my skills off\n",
      "to a whole new generation. New Gamemakers, especially. I eagerly await my turn\n",
      "for exhibition. But I can tell you,_ if_ Miss Everdeen earned an _eleven_ last\n",
      "year. A record. So why can’t I get the same rating? I won using my _teeth_,\n",
      "damn it!\n",
      "\n",
      "Phoebe yanks me back down in my seat. “Chill out, Enobaria\n",
      "\n",
      "\n",
      "1.902418851852417\n",
      "What?\n",
      "\n",
      "Did I really just hear…?\n",
      "\n",
      "Doris does the honors of turning on the television. \"Ooh, this is so\n",
      "exciting!\" she exclaims.\n",
      "\n",
      "Please. Put her in there with me _now._ Then we'll discover if she still think\n",
      "it's exciting.\n",
      "\n",
      "He looks my way, and I offer him a reminder of how cruel our country is.\n",
      "“Brutus… even if we got to Odysseus interrupts, \"is that, though you've seen\n",
      "what they can do, they might hurt you. Let me lead instead...please?\"\n",
      "\n",
      "\"Let's give it a try.\"\n",
      "\n",
      "\"Please, don't!\" she screams.\n",
      "\n",
      "I raise the vial and say, \"Here's to the people of District One; and\n",
      "understandably, they got our tears flowing,” he says. “So, I have to ask: How\n",
      "do _you_ feel about being a tribute for a second time?” The question’s been on\n",
      "my tongue for a while.\n",
      "\n",
      "He cocks his head, as if the answer’s obvious. “Oh, come on. Sparing Trent was\n",
      "just part of it. You know who. I’ll give you one hint, Golding: I’m staring at\n",
      "her.”\n",
      "\n",
      "She just made four deadly enemies.\n",
      "\n",
      "The only bright spot about being a tribute again? I get to show my skills off\n",
      "to a whole new generation. New Gamemakers, especially. I eagerly await my turn\n",
      "for exhibition. But I can tell you,_ if_ Miss Everdeen earned an _eleven_ last\n",
      "year. A record. So why can’t I get the same rating? I won using my _teeth_,\n",
      "damn it!\n",
      "\n",
      "Phoebe yanks me back down in my seat.\n"
     ]
    }
   ],
   "source": [
    "t5 = time.time()\n",
    "import html2text\n",
    "# with open(term + \"_test.txt\", \"r\") as z:\n",
    "#     t = z.read()\n",
    "#print(type(t))\n",
    "#term = \"harry potter\"\n",
    "text[term] += \"\"\n",
    "lm = f.train_lm(text[term], 13)\n",
    "f.text = f.generate_text(lm, 13, nletters=1500)\n",
    "f.text = html2text.html2text(f.text)\n",
    "print(f.text)\n",
    "\n",
    "a = open(term + '.txt', 'w')\n",
    "a.write(f.text)\n",
    "a.close()\n",
    "t6 = time.time()\n",
    "print(t6-t5)\n",
    "\n",
    "#html2text.html2text(f.text)\n",
    "print(f.text[:f.text.rfind(\".\")+1])"
   ]
  },
  {
   "cell_type": "code",
   "execution_count": 5,
   "metadata": {
    "collapsed": false
   },
   "outputs": [
    {
     "data": {
      "text/plain": [
       "(1, 2)"
      ]
     },
     "execution_count": 5,
     "metadata": {},
     "output_type": "execute_result"
    }
   ],
   "source": [
    "tuple([1, 2])"
   ]
  },
  {
   "cell_type": "code",
   "execution_count": 6,
   "metadata": {
    "collapsed": false
   },
   "outputs": [
    {
     "name": "stdout",
     "output_type": "stream",
     "text": [
      "1\n",
      "2\n"
     ]
    }
   ],
   "source": [
    "for x in tuple([1, 2]):\n",
    "    print(x)"
   ]
  },
  {
   "cell_type": "code",
   "execution_count": 35,
   "metadata": {
    "collapsed": false
   },
   "outputs": [
    {
     "data": {
      "text/plain": [
       "[<option value=\"random\">Random</option>,\n",
       " <option value=\"male\">Male</option>,\n",
       " <option selected=\"selected\" value=\"female\">Female</option>,\n",
       " <option selected=\"selected\" value=\"us\">American</option>,\n",
       " <option value=\"ar\">Arabic</option>,\n",
       " <option value=\"au\">Australian</option>,\n",
       " <option value=\"br\">Brazil</option>,\n",
       " <option value=\"celat\">Chechen (Latin)</option>,\n",
       " <option value=\"ch\">Chinese</option>,\n",
       " <option value=\"zhtw\">Chinese (Traditional)</option>,\n",
       " <option value=\"hr\">Croatian</option>,\n",
       " <option value=\"cs\">Czech</option>,\n",
       " <option value=\"dk\">Danish</option>,\n",
       " <option value=\"nl\">Dutch</option>,\n",
       " <option value=\"en\">England/Wales</option>,\n",
       " <option value=\"er\">Eritrean</option>,\n",
       " <option value=\"fi\">Finnish</option>,\n",
       " <option value=\"fr\">French</option>,\n",
       " <option value=\"gr\">German</option>,\n",
       " <option value=\"gl\">Greenland</option>,\n",
       " <option value=\"sp\">Hispanic</option>,\n",
       " <option value=\"hobbit\">Hobbit</option>,\n",
       " <option value=\"hu\">Hungarian</option>,\n",
       " <option value=\"is\">Icelandic</option>,\n",
       " <option value=\"ig\">Igbo</option>,\n",
       " <option value=\"it\">Italian</option>,\n",
       " <option value=\"jpja\">Japanese</option>,\n",
       " <option value=\"jp\">Japanese (Anglicized)</option>,\n",
       " <option value=\"tlh\">Klingon</option>,\n",
       " <option value=\"ninja\">Ninja</option>,\n",
       " <option value=\"no\">Norwegian</option>,\n",
       " <option value=\"fa\">Persian</option>,\n",
       " <option value=\"pl\">Polish</option>,\n",
       " <option value=\"ru\">Russian</option>,\n",
       " <option value=\"rucyr\">Russian (Cyrillic)</option>,\n",
       " <option value=\"gd\">Scottish</option>,\n",
       " <option value=\"sl\">Slovenian</option>,\n",
       " <option value=\"sw\">Swedish</option>,\n",
       " <option value=\"th\">Thai</option>,\n",
       " <option value=\"vn\">Vietnamese</option>,\n",
       " <option value=\"au\">Australia</option>,\n",
       " <option value=\"as\">Austria</option>,\n",
       " <option value=\"bg\">Belgium</option>,\n",
       " <option value=\"br\">Brazil</option>,\n",
       " <option value=\"ca\">Canada</option>,\n",
       " <option value=\"cyen\">Cyprus (Anglicized)</option>,\n",
       " <option value=\"cygk\">Cyprus (Greek)</option>,\n",
       " <option value=\"cz\">Czech Republic</option>,\n",
       " <option value=\"dk\">Denmark</option>,\n",
       " <option value=\"ee\">Estonia</option>,\n",
       " <option value=\"fi\">Finland</option>,\n",
       " <option value=\"fr\">France</option>,\n",
       " <option value=\"gr\">Germany</option>,\n",
       " <option value=\"gl\">Greenland</option>,\n",
       " <option value=\"hu\">Hungary</option>,\n",
       " <option value=\"is\">Iceland</option>,\n",
       " <option value=\"it\">Italy</option>,\n",
       " <option value=\"nl\">Netherlands</option>,\n",
       " <option value=\"nz\">New Zealand</option>,\n",
       " <option value=\"no\">Norway</option>,\n",
       " <option value=\"pl\">Poland</option>,\n",
       " <option value=\"pt\">Portugal</option>,\n",
       " <option value=\"sl\">Slovenia</option>,\n",
       " <option value=\"za\">South Africa</option>,\n",
       " <option value=\"sp\">Spain</option>,\n",
       " <option value=\"sw\">Sweden</option>,\n",
       " <option value=\"sz\">Switzerland</option>,\n",
       " <option value=\"tn\">Tunisia</option>,\n",
       " <option value=\"uk\">United Kingdom</option>,\n",
       " <option selected=\"selected\" value=\"us\">United States</option>,\n",
       " <option value=\"uy\">Uruguay</option>,\n",
       " <option value=\"de\">Deutsch</option>,\n",
       " <option selected=\"selected\" value=\"en\">English</option>,\n",
       " <option value=\"es\">Español</option>,\n",
       " <option value=\"fr\">Français</option>,\n",
       " <option value=\"it\">Italiano</option>,\n",
       " <option value=\"nl\">Nederlands</option>,\n",
       " <option value=\"pt\">Português</option>,\n",
       " <option value=\"ja\">日本語</option>,\n",
       " <option value=\"ko\">한국어</option>]"
      ]
     },
     "execution_count": 35,
     "metadata": {},
     "output_type": "execute_result"
    }
   ],
   "source": [
    "from bs4 import BeautifulSoup\n",
    "from urllib.request import Request, urlopen\n",
    "\n",
    "gender = \"female\"\n",
    "name_set = \"us\"\n",
    "country = \"us\"\n",
    "site = \"http://www.fakenamegenerator.com/gen-\" + gender + \"-\" + name_set + \"-\" + country + \".php\"\n",
    "hdr = {'User-Agent': 'Mozilla/5.0'}\n",
    "req = Request(site, headers=hdr)\n",
    "page = urlopen(req)\n",
    "soup = BeautifulSoup(page, \"lxml\")\n",
    "option = soup.find_all(\"option\")\n",
    "\n",
    "[option[n] for n, val in enumerate(option)]"
   ]
  },
  {
   "cell_type": "code",
   "execution_count": 34,
   "metadata": {
    "collapsed": false
   },
   "outputs": [],
   "source": [
    "import sys\n",
    "sys.path.insert(0, 'C:/Users/User/Desktop/beaver/NumberWon/numberwon/alexa_skills/profiles/Profiles')\n",
    "from Profile import Profile\n",
    "from UserDatabase import UserDatabase\n",
    "\n",
    "alexa_path = 'C:/Users/User/Desktop/beaver/NumberWon/numberwon/alexa_skills/profiles'\n",
    "#sys.path.insert(0, alexa_path)\n",
    "#every Fanfiction instance saves a text file into of top fanfiction for a term\n",
    "#iterates through all the databases and saves txt files based on preferences\n",
    "import os\n",
    "save_path = 'C:/Users/User/Desktop/beaver/NumberWon/numberwon/alexa_skills/fanfiction_files'\n",
    "from itertools import *\n",
    "\n",
    "f = Fanfiction()\n",
    "together = list()\n",
    "for f in os.listdir(alexa_path):\n",
    "\n",
    "    if f.endswith(\".npy\"):\n",
    "        #print(f)\n",
    "        d = UserDatabase(alexa_path+\"/\"+f)\n",
    "        #find all keys that have fan in them\n",
    "        #l = print([type(val) for key, val in d.dict.items()])\n",
    "        profiles = [val.find_user_preferences(key) for key, val in d.dict.items() if \"fan\" in key]\n",
    "        together.extend(itertools.chain.from_iterable(profiles))"
   ]
  },
  {
   "cell_type": "code",
   "execution_count": null,
   "metadata": {
    "collapsed": true
   },
   "outputs": [],
   "source": []
  }
 ],
 "metadata": {
  "kernelspec": {
   "display_name": "Python 3",
   "language": "python",
   "name": "python3"
  },
  "language_info": {
   "codemirror_mode": {
    "name": "ipython",
    "version": 3
   },
   "file_extension": ".py",
   "mimetype": "text/x-python",
   "name": "python",
   "nbconvert_exporter": "python",
   "pygments_lexer": "ipython3",
   "version": "3.6.0"
  }
 },
 "nbformat": 4,
 "nbformat_minor": 2
}
