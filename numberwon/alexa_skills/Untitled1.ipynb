{
 "cells": [
  {
   "cell_type": "code",
   "execution_count": 1,
   "metadata": {
    "collapsed": true
   },
   "outputs": [],
   "source": [
    "import time"
   ]
  },
  {
   "cell_type": "code",
   "execution_count": 2,
   "metadata": {
    "collapsed": false,
    "scrolled": true
   },
   "outputs": [
    {
     "name": "stdout",
     "output_type": "stream",
     "text": [
      "0.3850219249725342\n"
     ]
    }
   ],
   "source": [
    "t1 = time.time()\n",
    "import sys\n",
    "sys.path.insert(0, \"C:/Users/User/Desktop/beaver/NumberWon/numberwon/alexa_skills/profiles/Profiles\")\n",
    "from Profile import Profile\n",
    "from UserDatabase import UserDatabase\n",
    "\n",
    "sys.path.insert(0, \"C:/Users/User/Desktop/beaver/NumberWon/numberwon/alexa_skills\")\n",
    "from fanfiction import Fanfiction\n",
    "\n",
    "f = Fanfiction()\n",
    "term = \"hunger games\"\n",
    "t2 = time.time()\n",
    "\n",
    "print(t2-t1)\n"
   ]
  },
  {
   "cell_type": "code",
   "execution_count": 4,
   "metadata": {
    "collapsed": false
   },
   "outputs": [
    {
     "name": "stdout",
     "output_type": "stream",
     "text": [
      "18.277045488357544\n"
     ]
    }
   ],
   "source": [
    "t3 = time.time()\n",
    "text = f.find_fanfiction(term)\n",
    "\n",
    "for key, val in text.items():\n",
    "    a = open(term + '_test.txt', 'w')\n",
    "    a.write(val)\n",
    "    a.close()\n",
    "t4 = time.time()\n",
    "print(t4-t3)"
   ]
  },
  {
   "cell_type": "code",
   "execution_count": 4,
   "metadata": {
    "collapsed": false,
    "scrolled": true
   },
   "outputs": [
    {
     "name": "stdout",
     "output_type": "stream",
     "text": [
      "What?\n",
      "\n",
      "Did I really just hear…?\n",
      "\n",
      "Doris called my name again.\n",
      "\n",
      "I'm thirty four years old now. A little wiser. So I think, anyways. And I'm a\n",
      "total celebrity, especially. I eagerly await my turn for exhibition. But I can\n",
      "tell you, he's sensitive when he wants to be famous for killing?\n",
      "\n",
      "Oh, Brutus should make short work of this boy. He thrusts the spear out fast,\n",
      "and I get the hint. Now is when we'll make an escape.\n",
      "\n",
      "I scan the room. There's Katniss. Peeta. Annie. Haymitch. Beetee (wow, he\n",
      "really wants. Sorry.”\n",
      "\n",
      "“Things aren’t any better outside the arena explode, and you almost got into\n",
      "the mix. You should try saying 'thank you'.\"\n",
      "\n",
      "The camera suddenly beeps; a red light blinking. Somebody's requesting\n",
      "conversation with me.\n",
      "\n",
      "“A little help would be nice,” I say. Brutus threatens it with his spear.\n",
      "Imagine how delighted I am when his trick works, and the anaconda. Brutus and\n",
      "I would think she was dying. Points for Team Mockingjay, oh, it's on. We'll\n",
      "give the Capitol.\n",
      "\n",
      "Day 2 begins at the wonderful beach. And guess what else is special about\n",
      "today? Go on. Guess.\n",
      "\n",
      "My answer's simple: Because it would mean confronting everything runs from\n",
      "sharp points. But I make a big mistake as it reaches my lower right leg.\n",
      "\n",
      "I touch the horns of my Viking helmet. “Yeah. Amazing. I really feel like I’m\n",
      "about to pillage some towns.”\n",
      "\n",
      "“Which we don’t know how to swim. District 4 childhood.\n",
      "\n",
      "I know exactly w\n",
      "\n",
      "\n",
      "2.2171266078948975\n"
     ]
    },
    {
     "data": {
      "text/plain": [
       "'What? Did I really just hear…? Doris called my name again. I\\'m thirty four\\nyears old now. A little wiser. So I think, anyways. And I\\'m a total celebrity,\\nespecially. I eagerly await my turn for exhibition. But I can tell you, he\\'s\\nsensitive when he wants to be famous for killing? Oh, Brutus should make short\\nwork of this boy. He thrusts the spear out fast, and I get the hint. Now is\\nwhen we\\'ll make an escape. I scan the room. There\\'s Katniss. Peeta. Annie.\\nHaymitch. Beetee (wow, he really wants. Sorry.” “Things aren’t any better\\noutside the arena explode, and you almost got into the mix. You should try\\nsaying \\'thank you\\'.\" The camera suddenly beeps; a red light blinking.\\nSomebody\\'s requesting conversation with me. “A little help would be nice,” I\\nsay. Brutus threatens it with his spear. Imagine how delighted I am when his\\ntrick works, and the anaconda. Brutus and I would think she was dying. Points\\nfor Team Mockingjay, oh, it\\'s on. We\\'ll give the Capitol. Day 2 begins at the\\nwonderful beach. And guess what else is special about today? Go on. Guess. My\\nanswer\\'s simple: Because it would mean confronting everything runs from sharp\\npoints. But I make a big mistake as it reaches my lower right leg. I touch the\\nhorns of my Viking helmet. “Yeah. Amazing. I really feel like I’m about to\\npillage some towns.” “Which we don’t know how to swim. District 4 childhood. I\\nknow exactly w\\n\\n'"
      ]
     },
     "execution_count": 4,
     "metadata": {},
     "output_type": "execute_result"
    }
   ],
   "source": [
    "t5 = time.time()\n",
    "import html2text\n",
    "with open(term + \"_test.txt\", \"r\") as z:\n",
    "    t = z.read()\n",
    "#print(type(t))\n",
    "#term = \"harry potter\"\n",
    "lm = f.train_lm(t, 13)\n",
    "f.text = f.generate_text(lm, 13, nletters=1500)\n",
    "f.text = html2text.html2text(f.text)\n",
    "print(f.text)\n",
    "\n",
    "a = open(term + '.txt', 'w')\n",
    "a.write(f.text)\n",
    "a.close()\n",
    "t6 = time.time()\n",
    "print(t6-t5)\n",
    "html2text.html2text(f.text)"
   ]
  },
  {
   "cell_type": "code",
   "execution_count": 5,
   "metadata": {
    "collapsed": false
   },
   "outputs": [
    {
     "data": {
      "text/plain": [
       "(1, 2)"
      ]
     },
     "execution_count": 5,
     "metadata": {},
     "output_type": "execute_result"
    }
   ],
   "source": [
    "tuple([1, 2])"
   ]
  },
  {
   "cell_type": "code",
   "execution_count": 6,
   "metadata": {
    "collapsed": false
   },
   "outputs": [
    {
     "name": "stdout",
     "output_type": "stream",
     "text": [
      "1\n",
      "2\n"
     ]
    }
   ],
   "source": [
    "for x in tuple([1, 2]):\n",
    "    print(x)"
   ]
  },
  {
   "cell_type": "code",
   "execution_count": null,
   "metadata": {
    "collapsed": true
   },
   "outputs": [],
   "source": []
  }
 ],
 "metadata": {
  "kernelspec": {
   "display_name": "Python 3",
   "language": "python",
   "name": "python3"
  },
  "language_info": {
   "codemirror_mode": {
    "name": "ipython",
    "version": 3
   },
   "file_extension": ".py",
   "mimetype": "text/x-python",
   "name": "python",
   "nbconvert_exporter": "python",
   "pygments_lexer": "ipython3",
   "version": "3.6.0"
  }
 },
 "nbformat": 4,
 "nbformat_minor": 2
}
