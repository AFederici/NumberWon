{
 "cells": [
  {
   "cell_type": "code",
   "execution_count": 1,
   "metadata": {
    "collapsed": true
   },
   "outputs": [],
   "source": [
    "import time"
   ]
  },
  {
   "cell_type": "code",
   "execution_count": 2,
   "metadata": {
    "collapsed": false,
    "scrolled": true
   },
   "outputs": [
    {
     "name": "stdout",
     "output_type": "stream",
     "text": [
      "0.33940744400024414\n"
     ]
    }
   ],
   "source": [
    "t1 = time.time()\n",
    "import sys\n",
    "sys.path.insert(0, \"C:/Users/User/Desktop/beaver/NumberWon/numberwon/alexa_skills/profiles/Profiles\")\n",
    "from Profile import Profile\n",
    "from UserDatabase import UserDatabase\n",
    "\n",
    "sys.path.insert(0, \"C:/Users/User/Desktop/beaver/NumberWon/numberwon/alexa_skills\")\n",
    "from fanfiction import Fanfiction\n",
    "\n",
    "f = Fanfiction()\n",
    "term = \"hunger games\"\n",
    "t2 = time.time()\n",
    "\n",
    "print(t2-t1)\n"
   ]
  },
  {
   "cell_type": "code",
   "execution_count": 3,
   "metadata": {
    "collapsed": false
   },
   "outputs": [
    {
     "name": "stdout",
     "output_type": "stream",
     "text": [
      "16.25468635559082\n"
     ]
    }
   ],
   "source": [
    "t3 = time.time()\n",
    "text = f.find_fanfiction(term)\n",
    "\n",
    "# for key, val in text.items():\n",
    "#     a = open(term + '_test.txt', 'w')\n",
    "#     a.write(val)\n",
    "#     a.close()\n",
    "t4 = time.time()\n",
    "print(t4-t3)"
   ]
  },
  {
   "cell_type": "code",
   "execution_count": 7,
   "metadata": {
    "collapsed": false,
    "scrolled": false
   },
   "outputs": [
    {
     "name": "stdout",
     "output_type": "stream",
     "text": [
      "What?\n",
      "\n",
      "Did I really just hear…?\n",
      "\n",
      "Doris does the honors of turning on the television. \"Ooh, this is so\n",
      "exciting!\" she exclaims.\n",
      "\n",
      "Please. Put her in there with me _now._ Then we'll discover if she still think\n",
      "it's exciting.\n",
      "\n",
      "He looks my way, and I offer him a reminder of how cruel our country is.\n",
      "“Brutus… even if we got to Odysseus interrupts, \"is that, though you've seen\n",
      "what they can do, they might hurt you. Let me lead instead...please?\"\n",
      "\n",
      "\"Let's give it a try.\"\n",
      "\n",
      "\"Please, don't!\" she screams.\n",
      "\n",
      "I raise the vial and say, \"Here's to the people of District One; and\n",
      "understandably, they got our tears flowing,” he says. “So, I have to ask: How\n",
      "do _you_ feel about being a tribute for a second time?” The question’s been on\n",
      "my tongue for a while.\n",
      "\n",
      "He cocks his head, as if the answer’s obvious. “Oh, come on. Sparing Trent was\n",
      "just part of it. You know who. I’ll give you one hint, Golding: I’m staring at\n",
      "her.”\n",
      "\n",
      "She just made four deadly enemies.\n",
      "\n",
      "The only bright spot about being a tribute again? I get to show my skills off\n",
      "to a whole new generation. New Gamemakers, especially. I eagerly await my turn\n",
      "for exhibition. But I can tell you,_ if_ Miss Everdeen earned an _eleven_ last\n",
      "year. A record. So why can’t I get the same rating? I won using my _teeth_,\n",
      "damn it!\n",
      "\n",
      "Phoebe yanks me back down in my seat. “Chill out, Enobaria\n",
      "\n",
      "\n",
      "1.902418851852417\n",
      "What?\n",
      "\n",
      "Did I really just hear…?\n",
      "\n",
      "Doris does the honors of turning on the television. \"Ooh, this is so\n",
      "exciting!\" she exclaims.\n",
      "\n",
      "Please. Put her in there with me _now._ Then we'll discover if she still think\n",
      "it's exciting.\n",
      "\n",
      "He looks my way, and I offer him a reminder of how cruel our country is.\n",
      "“Brutus… even if we got to Odysseus interrupts, \"is that, though you've seen\n",
      "what they can do, they might hurt you. Let me lead instead...please?\"\n",
      "\n",
      "\"Let's give it a try.\"\n",
      "\n",
      "\"Please, don't!\" she screams.\n",
      "\n",
      "I raise the vial and say, \"Here's to the people of District One; and\n",
      "understandably, they got our tears flowing,” he says. “So, I have to ask: How\n",
      "do _you_ feel about being a tribute for a second time?” The question’s been on\n",
      "my tongue for a while.\n",
      "\n",
      "He cocks his head, as if the answer’s obvious. “Oh, come on. Sparing Trent was\n",
      "just part of it. You know who. I’ll give you one hint, Golding: I’m staring at\n",
      "her.”\n",
      "\n",
      "She just made four deadly enemies.\n",
      "\n",
      "The only bright spot about being a tribute again? I get to show my skills off\n",
      "to a whole new generation. New Gamemakers, especially. I eagerly await my turn\n",
      "for exhibition. But I can tell you,_ if_ Miss Everdeen earned an _eleven_ last\n",
      "year. A record. So why can’t I get the same rating? I won using my _teeth_,\n",
      "damn it!\n",
      "\n",
      "Phoebe yanks me back down in my seat.\n"
     ]
    }
   ],
   "source": [
    "t5 = time.time()\n",
    "import html2text\n",
    "# with open(term + \"_test.txt\", \"r\") as z:\n",
    "#     t = z.read()\n",
    "#print(type(t))\n",
    "#term = \"harry potter\"\n",
    "text[term] += \"\"\n",
    "lm = f.train_lm(text[term], 13)\n",
    "f.text = f.generate_text(lm, 13, nletters=1500)\n",
    "f.text = html2text.html2text(f.text)\n",
    "print(f.text)\n",
    "\n",
    "a = open(term + '.txt', 'w')\n",
    "a.write(f.text)\n",
    "a.close()\n",
    "t6 = time.time()\n",
    "print(t6-t5)\n",
    "\n",
    "#html2text.html2text(f.text)\n",
    "print(f.text[:f.text.rfind(\".\")+1])"
   ]
  },
  {
   "cell_type": "code",
   "execution_count": 5,
   "metadata": {
    "collapsed": false
   },
   "outputs": [
    {
     "data": {
      "text/plain": [
       "(1, 2)"
      ]
     },
     "execution_count": 5,
     "metadata": {},
     "output_type": "execute_result"
    }
   ],
   "source": [
    "tuple([1, 2])"
   ]
  },
  {
   "cell_type": "code",
   "execution_count": 6,
   "metadata": {
    "collapsed": false
   },
   "outputs": [
    {
     "name": "stdout",
     "output_type": "stream",
     "text": [
      "1\n",
      "2\n"
     ]
    }
   ],
   "source": [
    "for x in tuple([1, 2]):\n",
    "    print(x)"
   ]
  },
  {
   "cell_type": "code",
   "execution_count": null,
   "metadata": {
    "collapsed": true
   },
   "outputs": [],
   "source": []
  }
 ],
 "metadata": {
  "kernelspec": {
   "display_name": "Python 3",
   "language": "python",
   "name": "python3"
  },
  "language_info": {
   "codemirror_mode": {
    "name": "ipython",
    "version": 3
   },
   "file_extension": ".py",
   "mimetype": "text/x-python",
   "name": "python",
   "nbconvert_exporter": "python",
   "pygments_lexer": "ipython3",
   "version": "3.6.0"
  }
 },
 "nbformat": 4,
 "nbformat_minor": 2
}
