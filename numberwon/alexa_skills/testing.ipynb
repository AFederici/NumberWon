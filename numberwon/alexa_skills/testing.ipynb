{
 "cells": [
  {
   "cell_type": "code",
   "execution_count": 1,
   "metadata": {},
   "outputs": [
    {
     "name": "stdout",
     "output_type": "stream",
     "text": [
      "File already exists:\n",
      "\t/Users/megankaye/Desktop/BeaverWorks/Work/Week2/DlibModels/dlib_models/dlib_face_recognition_resnet_model_v1.dat\n",
      "File already exists:\n",
      "\t/Users/megankaye/Desktop/BeaverWorks/Work/Week2/DlibModels/dlib_models/shape_predictor_68_face_landmarks.dat\n"
     ]
    }
   ],
   "source": [
    "from profiles.Profiles.Profile import Profile\n",
    "from profiles.Profiles.UserDatabase import UserDatabase\n",
    "from face.FaceRec import Face_Recognition\n",
    "%matplotlib notebook\n",
    "import matplotlib.pyplot as plt"
   ]
  },
  {
   "cell_type": "code",
   "execution_count": 2,
   "metadata": {},
   "outputs": [],
   "source": [
    "d = UserDatabase(\"profiles/profiles_test_database.npy\")\n",
    "f = Face_Recognition()"
   ]
  },
  {
   "cell_type": "code",
   "execution_count": 16,
   "metadata": {
    "collapsed": true
   },
   "outputs": [],
   "source": [
    "m = Profile(\"Megan\")"
   ]
  },
  {
   "cell_type": "code",
   "execution_count": 17,
   "metadata": {
    "collapsed": true
   },
   "outputs": [],
   "source": [
    "#pic = f.take_picture()\n",
    "#fig, ax = plt.subplots()\n",
    "#ax.imshow(pic)\n",
    "m.update_face_vectors(f.get_face_descriptor_vector())"
   ]
  },
  {
   "cell_type": "code",
   "execution_count": 18,
   "metadata": {},
   "outputs": [
    {
     "data": {
      "text/plain": [
       "[array([-0.06773663,  0.00296671,  0.02509205, -0.12289903, -0.11898112,\n",
       "        -0.00978886,  0.00379388, -0.06097753,  0.15693974, -0.20470978,\n",
       "         0.20746173, -0.06058068, -0.21924339,  0.04284237,  0.04615919,\n",
       "         0.20524454, -0.16099748, -0.13163355, -0.1131952 , -0.03252041,\n",
       "        -0.04520624,  0.05300397, -0.0268616 ,  0.11037443, -0.05586154,\n",
       "        -0.34867412, -0.04565476, -0.07533468, -0.04876414, -0.04342534,\n",
       "         0.02159011,  0.11201367, -0.10591819,  0.06095908,  0.04362642,\n",
       "         0.04430725, -0.1250993 , -0.10053869,  0.23134112, -0.00602341,\n",
       "        -0.28874752, -0.02901952,  0.06497402,  0.21817397,  0.21219359,\n",
       "         0.01006381, -0.04829812, -0.07924202,  0.16564956, -0.33733064,\n",
       "         0.03899146,  0.10127172,  0.06359254,  0.06397936,  0.05965379,\n",
       "        -0.10155436,  0.04362212,  0.11085407, -0.24813241, -0.01693492,\n",
       "         0.0216453 , -0.15217826,  0.00500293, -0.10448915,  0.22949915,\n",
       "         0.16410699, -0.15907718, -0.10339753,  0.19102152, -0.25119188,\n",
       "        -0.1037451 ,  0.05209473, -0.07559402, -0.21934834, -0.27252635,\n",
       "        -0.01600181,  0.33283567,  0.17013766, -0.16641505, -0.02940424,\n",
       "         0.04246055, -0.08022882,  0.09256928,  0.21233769, -0.00410591,\n",
       "        -0.15858619, -0.02507931, -0.05475818,  0.24609526, -0.04589567,\n",
       "        -0.01153942,  0.26844603,  0.02056447, -0.00863838, -0.00303432,\n",
       "         0.07100448, -0.07489019, -0.02598706, -0.13313697,  0.03691407,\n",
       "        -0.08817802, -0.02759414, -0.05266798,  0.15006451, -0.18005843,\n",
       "         0.23897766, -0.05775429, -0.04513475,  0.02505079,  0.01828076,\n",
       "        -0.01692365, -0.10624462,  0.08663912, -0.20025586,  0.10370351,\n",
       "         0.14901258,  0.06001921,  0.16147317, -0.02134198,  0.08354651,\n",
       "        -0.00168268, -0.05200284, -0.28080282, -0.0757336 ,  0.08449095,\n",
       "        -0.0203335 , -0.01956036,  0.03114958])]"
      ]
     },
     "execution_count": 18,
     "metadata": {},
     "output_type": "execute_result"
    }
   ],
   "source": [
    "m.face_vectors"
   ]
  },
  {
   "cell_type": "code",
   "execution_count": 19,
   "metadata": {
    "collapsed": true
   },
   "outputs": [],
   "source": [
    "d.update(m.name, m)"
   ]
  },
  {
   "cell_type": "code",
   "execution_count": 3,
   "metadata": {},
   "outputs": [
    {
     "data": {
      "text/plain": [
       "'successfully saved'"
      ]
     },
     "execution_count": 3,
     "metadata": {},
     "output_type": "execute_result"
    }
   ],
   "source": [
    "d.save_obj(\"profiles/profiles_test_database.npy\")"
   ]
  },
  {
   "cell_type": "code",
   "execution_count": 4,
   "metadata": {},
   "outputs": [],
   "source": [
    "d.add_preferences_by_user(\"Megan\", \"fanfiction\", \"harry potter\")"
   ]
  },
  {
   "cell_type": "code",
   "execution_count": 7,
   "metadata": {},
   "outputs": [
    {
     "data": {
      "text/plain": [
       "'successfully saved'"
      ]
     },
     "execution_count": 7,
     "metadata": {},
     "output_type": "execute_result"
    }
   ],
   "source": [
    "d.save_obj(\"profiles/profiles_test_database.npy\")"
   ]
  },
  {
   "cell_type": "code",
   "execution_count": 5,
   "metadata": {},
   "outputs": [
    {
     "data": {
      "text/plain": [
       "['harry potter']"
      ]
     },
     "execution_count": 5,
     "metadata": {},
     "output_type": "execute_result"
    }
   ],
   "source": [
    "d.get_preferences_by_user(\"Megan\", \"fanfiction\")"
   ]
  },
  {
   "cell_type": "code",
   "execution_count": 24,
   "metadata": {
    "collapsed": true
   },
   "outputs": [],
   "source": [
    "d.remove_preferences_by_user(\"Megan\", \"news\", \"entertainment\")"
   ]
  },
  {
   "cell_type": "code",
   "execution_count": 6,
   "metadata": {},
   "outputs": [
    {
     "data": {
      "text/plain": [
       "['entertainment', 'sports']"
      ]
     },
     "execution_count": 6,
     "metadata": {},
     "output_type": "execute_result"
    }
   ],
   "source": [
    "d.get_preferences_by_user(\"Megan\", \"news\")"
   ]
  },
  {
   "cell_type": "code",
   "execution_count": 8,
   "metadata": {},
   "outputs": [],
   "source": [
    "from book_buddy_skill import find_genres"
   ]
  },
  {
   "cell_type": "code",
   "execution_count": 9,
   "metadata": {},
   "outputs": [
    {
     "name": "stdout",
     "output_type": "stream",
     "text": [
      "[]\n"
     ]
    },
    {
     "data": {
      "text/plain": [
       "[]"
      ]
     },
     "execution_count": 9,
     "metadata": {},
     "output_type": "execute_result"
    }
   ],
   "source": [
    "find_genres(\"fantasy\")"
   ]
  },
  {
   "cell_type": "code",
   "execution_count": null,
   "metadata": {
    "collapsed": true
   },
   "outputs": [],
   "source": []
  }
 ],
 "metadata": {
  "kernelspec": {
   "display_name": "Python [conda root]",
   "language": "python",
   "name": "conda-root-py"
  },
  "language_info": {
   "codemirror_mode": {
    "name": "ipython",
    "version": 3
   },
   "file_extension": ".py",
   "mimetype": "text/x-python",
   "name": "python",
   "nbconvert_exporter": "python",
   "pygments_lexer": "ipython3",
   "version": "3.5.3"
  }
 },
 "nbformat": 4,
 "nbformat_minor": 2
}
