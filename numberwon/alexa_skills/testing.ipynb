{
 "cells": [
  {
   "cell_type": "code",
   "execution_count": 1,
   "metadata": {},
   "outputs": [
    {
     "name": "stdout",
     "output_type": "stream",
     "text": [
      "File already exists:\n",
      "\t/Users/megankaye/Desktop/BeaverWorks/Work/Week2/DlibModels/dlib_models/dlib_face_recognition_resnet_model_v1.dat\n",
      "File already exists:\n",
      "\t/Users/megankaye/Desktop/BeaverWorks/Work/Week2/DlibModels/dlib_models/shape_predictor_68_face_landmarks.dat\n"
     ]
    }
   ],
   "source": [
    "from profiles.Profiles.Profile import Profile\n",
    "from profiles.Profiles.UserDatabase import UserDatabase\n",
    "from face.FaceRec import Face_Recognition\n",
    "%matplotlib notebook\n",
    "import matplotlib.pyplot as plt"
   ]
  },
  {
   "cell_type": "code",
   "execution_count": 2,
   "metadata": {
    "collapsed": true
   },
   "outputs": [],
   "source": [
    "d = UserDatabase()\n",
    "f = Face_Recognition()"
   ]
  },
  {
   "cell_type": "code",
   "execution_count": 3,
   "metadata": {
    "collapsed": true
   },
   "outputs": [],
   "source": [
    "m = Profile(\"Megan\")"
   ]
  },
  {
   "cell_type": "code",
   "execution_count": 4,
   "metadata": {
    "collapsed": true
   },
   "outputs": [],
   "source": [
    "#pic = f.take_picture()\n",
    "#fig, ax = plt.subplots()\n",
    "#ax.imshow(pic)\n",
    "m.update_face_vectors(f.get_face_descriptor_vector())"
   ]
  },
  {
   "cell_type": "code",
   "execution_count": 5,
   "metadata": {},
   "outputs": [
    {
     "data": {
      "text/plain": [
       "[array([-0.0670891 ,  0.13051592,  0.05225102, -0.09385039, -0.15706268,\n",
       "        -0.02223767,  0.03506326, -0.09615172,  0.13753544, -0.13635764,\n",
       "         0.29845652, -0.0522348 , -0.21664166,  0.0554642 ,  0.02389461,\n",
       "         0.17310329, -0.12350168, -0.1474739 , -0.1078483 ,  0.02659945,\n",
       "        -0.03008399,  0.07942785, -0.0361629 ,  0.07267024, -0.09393997,\n",
       "        -0.32456365, -0.03937536, -0.03613183,  0.05004166, -0.06984379,\n",
       "        -0.01770969,  0.1195827 , -0.12299133, -0.02410969,  0.08071033,\n",
       "         0.05287228, -0.15396789, -0.11838373,  0.22673298, -0.00240563,\n",
       "        -0.30392557, -0.00070865,  0.11344877,  0.28926751,  0.18141568,\n",
       "         0.02367497,  0.01724321, -0.13074018,  0.10451102, -0.28602195,\n",
       "         0.05751216,  0.08126884,  0.09454321,  0.10317597, -0.00143427,\n",
       "        -0.16337283,  0.07155272,  0.10827927, -0.28329083, -0.03011248,\n",
       "         0.13228014, -0.14501002, -0.0100262 , -0.09037754,  0.27302474,\n",
       "         0.13975704, -0.11337104, -0.12158703,  0.19230269, -0.22333722,\n",
       "        -0.13373147,  0.07493968, -0.06415363, -0.15649246, -0.28156942,\n",
       "        -0.02969691,  0.3070839 ,  0.1634001 , -0.09863362,  0.03138878,\n",
       "        -0.0019117 , -0.00660316,  0.05253734,  0.13407144, -0.06856874,\n",
       "        -0.10683897, -0.04864733, -0.03734723,  0.2779814 , -0.0228953 ,\n",
       "        -0.00210684,  0.23499593,  0.05936857, -0.05156358,  0.04690557,\n",
       "         0.06282096, -0.08027123, -0.03565675, -0.10901794,  0.02032595,\n",
       "        -0.07266511, -0.07314683, -0.0144753 ,  0.19529729, -0.29173124,\n",
       "         0.25820407, -0.04229705,  0.00072104,  0.08194161, -0.02360692,\n",
       "         0.0355071 , -0.0767125 ,  0.08239303, -0.2714906 ,  0.14886601,\n",
       "         0.13420266,  0.0887494 ,  0.14192155,  0.03245484,  0.04282148,\n",
       "        -0.01376257, -0.05553706, -0.28877836, -0.08643563,  0.10297143,\n",
       "        -0.0800851 ,  0.04657975,  0.06758695])]"
      ]
     },
     "execution_count": 5,
     "metadata": {},
     "output_type": "execute_result"
    }
   ],
   "source": [
    "m.face_vectors"
   ]
  },
  {
   "cell_type": "code",
   "execution_count": 6,
   "metadata": {
    "collapsed": true
   },
   "outputs": [],
   "source": [
    "d.update(m.name, m)"
   ]
  },
  {
   "cell_type": "code",
   "execution_count": 7,
   "metadata": {},
   "outputs": [
    {
     "data": {
      "text/plain": [
       "'successfully saved'"
      ]
     },
     "execution_count": 7,
     "metadata": {},
     "output_type": "execute_result"
    }
   ],
   "source": [
    "d.save_obj(\"profiles_test_database.npy\")"
   ]
  },
  {
   "cell_type": "code",
   "execution_count": 8,
   "metadata": {
    "collapsed": true
   },
   "outputs": [],
   "source": [
    "d.add_preferences_by_user(\"Megan\", \"news\", \"entertainment\")"
   ]
  },
  {
   "cell_type": "code",
   "execution_count": 9,
   "metadata": {},
   "outputs": [
    {
     "data": {
      "text/plain": [
       "'successfully saved'"
      ]
     },
     "execution_count": 9,
     "metadata": {},
     "output_type": "execute_result"
    }
   ],
   "source": [
    "d.save_obj(\"profiles_test_database.npy\")"
   ]
  },
  {
   "cell_type": "code",
   "execution_count": 10,
   "metadata": {},
   "outputs": [
    {
     "data": {
      "text/plain": [
       "'entertainment'"
      ]
     },
     "execution_count": 10,
     "metadata": {},
     "output_type": "execute_result"
    }
   ],
   "source": [
    "d.get_preferences_by_user(\"Megan\", \"news\")"
   ]
  },
  {
   "cell_type": "code",
   "execution_count": null,
   "metadata": {
    "collapsed": true
   },
   "outputs": [],
   "source": [
    "#d.add_preferences_by_user(\"Megan\", \"news\", \"politics\")"
   ]
  },
  {
   "cell_type": "code",
   "execution_count": null,
   "metadata": {
    "collapsed": true
   },
   "outputs": [],
   "source": [
    "d.get_preferences_by_user(\"Megan\", \"news\")"
   ]
  }
 ],
 "metadata": {
  "kernelspec": {
   "display_name": "Python [conda root]",
   "language": "python",
   "name": "conda-root-py"
  },
  "language_info": {
   "codemirror_mode": {
    "name": "ipython",
    "version": 3
   },
   "file_extension": ".py",
   "mimetype": "text/x-python",
   "name": "python",
   "nbconvert_exporter": "python",
   "pygments_lexer": "ipython3",
   "version": "3.5.3"
  }
 },
 "nbformat": 4,
 "nbformat_minor": 2
}
